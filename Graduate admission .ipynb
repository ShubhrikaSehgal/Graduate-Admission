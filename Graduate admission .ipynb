{
 "cells": [
  {
   "cell_type": "markdown",
   "metadata": {},
   "source": [
    "# Graduate Admission"
   ]
  },
  {
   "cell_type": "markdown",
   "metadata": {},
   "source": [
    "The dataset contains several parameters which are considered important during the application for Masters Programs.\n",
    "The parameters included are :\n",
    "\n",
    "GRE Scores ( out of 340 )\n",
    "TOEFL Scores ( out of 120 )\n",
    "University Rating ( out of 5 )\n",
    "Statement of Purpose and Letter of Recommendation Strength ( out of 5 )\n",
    "Undergraduate GPA ( out of 10 )\n",
    "Research Experience ( either 0 or 1 )\n",
    "Chance of Admit ( ranging from 0 to 1 )"
   ]
  },
  {
   "cell_type": "code",
   "execution_count": 60,
   "metadata": {
    "scrolled": true
   },
   "outputs": [],
   "source": [
    "import tensorflow as tf \n",
    "from tensorflow.keras import layers\n",
    "from tensorflow.keras.layers.experimental import preprocessing\n",
    "from tensorflow.keras.layers import Input, Dense, Activation,Dropout,LSTM\n",
    "from tensorflow.keras.models import Sequential\n",
    "import pandas as pd \n",
    "import numpy as np \n",
    "import math\n",
    "import matplotlib.pyplot as plt\n",
    "from sklearn.metrics import mean_squared_error"
   ]
  },
  {
   "cell_type": "code",
   "execution_count": 30,
   "metadata": {
    "scrolled": true
   },
   "outputs": [],
   "source": [
    "data=pd.read_csv(\"Admission_Predict.csv\")"
   ]
  },
  {
   "cell_type": "code",
   "execution_count": 31,
   "metadata": {
    "scrolled": true
   },
   "outputs": [
    {
     "data": {
      "text/html": [
       "<div>\n",
       "<style scoped>\n",
       "    .dataframe tbody tr th:only-of-type {\n",
       "        vertical-align: middle;\n",
       "    }\n",
       "\n",
       "    .dataframe tbody tr th {\n",
       "        vertical-align: top;\n",
       "    }\n",
       "\n",
       "    .dataframe thead th {\n",
       "        text-align: right;\n",
       "    }\n",
       "</style>\n",
       "<table border=\"1\" class=\"dataframe\">\n",
       "  <thead>\n",
       "    <tr style=\"text-align: right;\">\n",
       "      <th></th>\n",
       "      <th>Serial No.</th>\n",
       "      <th>GRE Score</th>\n",
       "      <th>TOEFL Score</th>\n",
       "      <th>University Rating</th>\n",
       "      <th>SOP</th>\n",
       "      <th>LOR</th>\n",
       "      <th>CGPA</th>\n",
       "      <th>Research</th>\n",
       "      <th>Chance of Admit</th>\n",
       "    </tr>\n",
       "  </thead>\n",
       "  <tbody>\n",
       "    <tr>\n",
       "      <th>0</th>\n",
       "      <td>1</td>\n",
       "      <td>337</td>\n",
       "      <td>118</td>\n",
       "      <td>4</td>\n",
       "      <td>4.5</td>\n",
       "      <td>4.5</td>\n",
       "      <td>9.65</td>\n",
       "      <td>1</td>\n",
       "      <td>0.92</td>\n",
       "    </tr>\n",
       "    <tr>\n",
       "      <th>1</th>\n",
       "      <td>2</td>\n",
       "      <td>324</td>\n",
       "      <td>107</td>\n",
       "      <td>4</td>\n",
       "      <td>4.0</td>\n",
       "      <td>4.5</td>\n",
       "      <td>8.87</td>\n",
       "      <td>1</td>\n",
       "      <td>0.76</td>\n",
       "    </tr>\n",
       "    <tr>\n",
       "      <th>2</th>\n",
       "      <td>3</td>\n",
       "      <td>316</td>\n",
       "      <td>104</td>\n",
       "      <td>3</td>\n",
       "      <td>3.0</td>\n",
       "      <td>3.5</td>\n",
       "      <td>8.00</td>\n",
       "      <td>1</td>\n",
       "      <td>0.72</td>\n",
       "    </tr>\n",
       "    <tr>\n",
       "      <th>3</th>\n",
       "      <td>4</td>\n",
       "      <td>322</td>\n",
       "      <td>110</td>\n",
       "      <td>3</td>\n",
       "      <td>3.5</td>\n",
       "      <td>2.5</td>\n",
       "      <td>8.67</td>\n",
       "      <td>1</td>\n",
       "      <td>0.80</td>\n",
       "    </tr>\n",
       "    <tr>\n",
       "      <th>4</th>\n",
       "      <td>5</td>\n",
       "      <td>314</td>\n",
       "      <td>103</td>\n",
       "      <td>2</td>\n",
       "      <td>2.0</td>\n",
       "      <td>3.0</td>\n",
       "      <td>8.21</td>\n",
       "      <td>0</td>\n",
       "      <td>0.65</td>\n",
       "    </tr>\n",
       "  </tbody>\n",
       "</table>\n",
       "</div>"
      ],
      "text/plain": [
       "   Serial No.  GRE Score  TOEFL Score  University Rating  SOP  LOR   CGPA  \\\n",
       "0           1        337          118                  4  4.5   4.5  9.65   \n",
       "1           2        324          107                  4  4.0   4.5  8.87   \n",
       "2           3        316          104                  3  3.0   3.5  8.00   \n",
       "3           4        322          110                  3  3.5   2.5  8.67   \n",
       "4           5        314          103                  2  2.0   3.0  8.21   \n",
       "\n",
       "   Research  Chance of Admit   \n",
       "0         1              0.92  \n",
       "1         1              0.76  \n",
       "2         1              0.72  \n",
       "3         1              0.80  \n",
       "4         0              0.65  "
      ]
     },
     "execution_count": 31,
     "metadata": {},
     "output_type": "execute_result"
    }
   ],
   "source": [
    "data.head()"
   ]
  },
  {
   "cell_type": "code",
   "execution_count": 32,
   "metadata": {
    "scrolled": true
   },
   "outputs": [
    {
     "data": {
      "text/plain": [
       "(400, 9)"
      ]
     },
     "execution_count": 32,
     "metadata": {},
     "output_type": "execute_result"
    }
   ],
   "source": [
    "data.shape"
   ]
  },
  {
   "cell_type": "code",
   "execution_count": 33,
   "metadata": {
    "scrolled": true
   },
   "outputs": [
    {
     "name": "stdout",
     "output_type": "stream",
     "text": [
      "<class 'pandas.core.frame.DataFrame'>\n",
      "RangeIndex: 400 entries, 0 to 399\n",
      "Data columns (total 9 columns):\n",
      "Serial No.           400 non-null int64\n",
      "GRE Score            400 non-null int64\n",
      "TOEFL Score          400 non-null int64\n",
      "University Rating    400 non-null int64\n",
      "SOP                  400 non-null float64\n",
      "LOR                  400 non-null float64\n",
      "CGPA                 400 non-null float64\n",
      "Research             400 non-null int64\n",
      "Chance of Admit      400 non-null float64\n",
      "dtypes: float64(4), int64(5)\n",
      "memory usage: 28.2 KB\n"
     ]
    }
   ],
   "source": [
    "data.info()"
   ]
  },
  {
   "cell_type": "code",
   "execution_count": 34,
   "metadata": {
    "scrolled": true
   },
   "outputs": [
    {
     "data": {
      "text/html": [
       "<div>\n",
       "<style scoped>\n",
       "    .dataframe tbody tr th:only-of-type {\n",
       "        vertical-align: middle;\n",
       "    }\n",
       "\n",
       "    .dataframe tbody tr th {\n",
       "        vertical-align: top;\n",
       "    }\n",
       "\n",
       "    .dataframe thead th {\n",
       "        text-align: right;\n",
       "    }\n",
       "</style>\n",
       "<table border=\"1\" class=\"dataframe\">\n",
       "  <thead>\n",
       "    <tr style=\"text-align: right;\">\n",
       "      <th></th>\n",
       "      <th>Serial No.</th>\n",
       "      <th>GRE Score</th>\n",
       "      <th>TOEFL Score</th>\n",
       "      <th>University Rating</th>\n",
       "      <th>SOP</th>\n",
       "      <th>LOR</th>\n",
       "      <th>CGPA</th>\n",
       "      <th>Research</th>\n",
       "      <th>Chance of Admit</th>\n",
       "    </tr>\n",
       "  </thead>\n",
       "  <tbody>\n",
       "    <tr>\n",
       "      <th>count</th>\n",
       "      <td>400.000000</td>\n",
       "      <td>400.000000</td>\n",
       "      <td>400.000000</td>\n",
       "      <td>400.000000</td>\n",
       "      <td>400.000000</td>\n",
       "      <td>400.000000</td>\n",
       "      <td>400.000000</td>\n",
       "      <td>400.000000</td>\n",
       "      <td>400.000000</td>\n",
       "    </tr>\n",
       "    <tr>\n",
       "      <th>mean</th>\n",
       "      <td>200.500000</td>\n",
       "      <td>316.807500</td>\n",
       "      <td>107.410000</td>\n",
       "      <td>3.087500</td>\n",
       "      <td>3.400000</td>\n",
       "      <td>3.452500</td>\n",
       "      <td>8.598925</td>\n",
       "      <td>0.547500</td>\n",
       "      <td>0.724350</td>\n",
       "    </tr>\n",
       "    <tr>\n",
       "      <th>std</th>\n",
       "      <td>115.614301</td>\n",
       "      <td>11.473646</td>\n",
       "      <td>6.069514</td>\n",
       "      <td>1.143728</td>\n",
       "      <td>1.006869</td>\n",
       "      <td>0.898478</td>\n",
       "      <td>0.596317</td>\n",
       "      <td>0.498362</td>\n",
       "      <td>0.142609</td>\n",
       "    </tr>\n",
       "    <tr>\n",
       "      <th>min</th>\n",
       "      <td>1.000000</td>\n",
       "      <td>290.000000</td>\n",
       "      <td>92.000000</td>\n",
       "      <td>1.000000</td>\n",
       "      <td>1.000000</td>\n",
       "      <td>1.000000</td>\n",
       "      <td>6.800000</td>\n",
       "      <td>0.000000</td>\n",
       "      <td>0.340000</td>\n",
       "    </tr>\n",
       "    <tr>\n",
       "      <th>25%</th>\n",
       "      <td>100.750000</td>\n",
       "      <td>308.000000</td>\n",
       "      <td>103.000000</td>\n",
       "      <td>2.000000</td>\n",
       "      <td>2.500000</td>\n",
       "      <td>3.000000</td>\n",
       "      <td>8.170000</td>\n",
       "      <td>0.000000</td>\n",
       "      <td>0.640000</td>\n",
       "    </tr>\n",
       "    <tr>\n",
       "      <th>50%</th>\n",
       "      <td>200.500000</td>\n",
       "      <td>317.000000</td>\n",
       "      <td>107.000000</td>\n",
       "      <td>3.000000</td>\n",
       "      <td>3.500000</td>\n",
       "      <td>3.500000</td>\n",
       "      <td>8.610000</td>\n",
       "      <td>1.000000</td>\n",
       "      <td>0.730000</td>\n",
       "    </tr>\n",
       "    <tr>\n",
       "      <th>75%</th>\n",
       "      <td>300.250000</td>\n",
       "      <td>325.000000</td>\n",
       "      <td>112.000000</td>\n",
       "      <td>4.000000</td>\n",
       "      <td>4.000000</td>\n",
       "      <td>4.000000</td>\n",
       "      <td>9.062500</td>\n",
       "      <td>1.000000</td>\n",
       "      <td>0.830000</td>\n",
       "    </tr>\n",
       "    <tr>\n",
       "      <th>max</th>\n",
       "      <td>400.000000</td>\n",
       "      <td>340.000000</td>\n",
       "      <td>120.000000</td>\n",
       "      <td>5.000000</td>\n",
       "      <td>5.000000</td>\n",
       "      <td>5.000000</td>\n",
       "      <td>9.920000</td>\n",
       "      <td>1.000000</td>\n",
       "      <td>0.970000</td>\n",
       "    </tr>\n",
       "  </tbody>\n",
       "</table>\n",
       "</div>"
      ],
      "text/plain": [
       "       Serial No.   GRE Score  TOEFL Score  University Rating         SOP  \\\n",
       "count  400.000000  400.000000   400.000000         400.000000  400.000000   \n",
       "mean   200.500000  316.807500   107.410000           3.087500    3.400000   \n",
       "std    115.614301   11.473646     6.069514           1.143728    1.006869   \n",
       "min      1.000000  290.000000    92.000000           1.000000    1.000000   \n",
       "25%    100.750000  308.000000   103.000000           2.000000    2.500000   \n",
       "50%    200.500000  317.000000   107.000000           3.000000    3.500000   \n",
       "75%    300.250000  325.000000   112.000000           4.000000    4.000000   \n",
       "max    400.000000  340.000000   120.000000           5.000000    5.000000   \n",
       "\n",
       "             LOR         CGPA    Research  Chance of Admit   \n",
       "count  400.000000  400.000000  400.000000        400.000000  \n",
       "mean     3.452500    8.598925    0.547500          0.724350  \n",
       "std      0.898478    0.596317    0.498362          0.142609  \n",
       "min      1.000000    6.800000    0.000000          0.340000  \n",
       "25%      3.000000    8.170000    0.000000          0.640000  \n",
       "50%      3.500000    8.610000    1.000000          0.730000  \n",
       "75%      4.000000    9.062500    1.000000          0.830000  \n",
       "max      5.000000    9.920000    1.000000          0.970000  "
      ]
     },
     "execution_count": 34,
     "metadata": {},
     "output_type": "execute_result"
    }
   ],
   "source": [
    "data.describe()"
   ]
  },
  {
   "cell_type": "code",
   "execution_count": 38,
   "metadata": {
    "scrolled": false
   },
   "outputs": [
    {
     "data": {
      "image/png": "[encoded data removed]",
      "text/plain": [
       "<Figure size 432x288 with 1 Axes>"
      ]
     },
     "metadata": {
      "needs_background": "light"
     },
     "output_type": "display_data"
    },
    {
     "data": {
      "image/png": "[encoded data removed]",
      "text/plain": [
       "<Figure size 432x288 with 1 Axes>"
      ]
     },
     "metadata": {
      "needs_background": "light"
     },
     "output_type": "display_data"
    },
    {
     "data": {
      "image/png": "[encoded data removed]",
      "text/plain": [
       "<Figure size 432x288 with 1 Axes>"
      ]
     },
     "metadata": {
      "needs_background": "light"
     },
     "output_type": "display_data"
    },
    {
     "data": {
      "image/png": "[encoded data removed]",
      "text/plain": [
       "<Figure size 432x288 with 1 Axes>"
      ]
     },
     "metadata": {
      "needs_background": "light"
     },
     "output_type": "display_data"
    },
    {
     "data": {
      "image/png": "[encoded data removed]",
      "text/plain": [
       "<Figure size 432x288 with 1 Axes>"
      ]
     },
     "metadata": {
      "needs_background": "light"
     },
     "output_type": "display_data"
    },
    {
     "data": {
      "image/png": "[encoded data removed]",
      "text/plain": [
       "<Figure size 432x288 with 1 Axes>"
      ]
     },
     "metadata": {
      "needs_background": "light"
     },
     "output_type": "display_data"
    },
    {
     "data": {
      "image/png": "[encoded data removed]",
      "text/plain": [
       "<Figure size 432x288 with 1 Axes>"
      ]
     },
     "metadata": {
      "needs_background": "light"
     },
     "output_type": "display_data"
    },
    {
     "data": {
      "image/png": "[encoded data removed]",
      "text/plain": [
       "<Figure size 432x288 with 1 Axes>"
      ]
     },
     "metadata": {
      "needs_background": "light"
     },
     "output_type": "display_data"
    },
    {
     "data": {
      "image/png": "[encoded data removed]",
      "text/plain": [
       "<Figure size 432x288 with 1 Axes>"
      ]
     },
     "metadata": {
      "needs_background": "light"
     },
     "output_type": "display_data"
    }
   ],
   "source": [
    "for f in data.columns:\n",
    "    data.plot.scatter(x=f, y=\"Chance of Admit \");"
   ]
  },
  {
   "cell_type": "code",
   "execution_count": 35,
   "metadata": {
    "scrolled": true
   },
   "outputs": [],
   "source": [
    "data_features=data.copy()\n",
    "data_labels=data_features.pop(\"Chance of Admit \")\n"
   ]
  },
  {
   "cell_type": "code",
   "execution_count": 39,
   "metadata": {
    "scrolled": false
   },
   "outputs": [
    {
     "data": {
      "image/png": "[encoded data removed]",
      "text/plain": [
       "<Figure size 432x288 with 1 Axes>"
      ]
     },
     "metadata": {
      "needs_background": "light"
     },
     "output_type": "display_data"
    },
    {
     "data": {
      "image/png": "[encoded data removed]",
      "text/plain": [
       "<Figure size 432x288 with 1 Axes>"
      ]
     },
     "metadata": {
      "needs_background": "light"
     },
     "output_type": "display_data"
    },
    {
     "data": {
      "image/png": "[encoded data removed]",
      "text/plain": [
       "<Figure size 432x288 with 1 Axes>"
      ]
     },
     "metadata": {
      "needs_background": "light"
     },
     "output_type": "display_data"
    },
    {
     "data": {
      "image/png": "[encoded data removed]",
      "text/plain": [
       "<Figure size 432x288 with 1 Axes>"
      ]
     },
     "metadata": {
      "needs_background": "light"
     },
     "output_type": "display_data"
    },
    {
     "data": {
      "image/png": "[encoded data removed]",
      "text/plain": [
       "<Figure size 432x288 with 1 Axes>"
      ]
     },
     "metadata": {
      "needs_background": "light"
     },
     "output_type": "display_data"
    },
    {
     "data": {
      "image/png": "[encoded data removed]",
      "text/plain": [
       "<Figure size 432x288 with 1 Axes>"
      ]
     },
     "metadata": {
      "needs_background": "light"
     },
     "output_type": "display_data"
    },
    {
     "data": {
      "image/png": "[encoded data removed]",
      "text/plain": [
       "<Figure size 432x288 with 1 Axes>"
      ]
     },
     "metadata": {
      "needs_background": "light"
     },
     "output_type": "display_data"
    },
    {
     "data": {
      "image/png": "[encoded data removed]",
      "text/plain": [
       "<Figure size 432x288 with 1 Axes>"
      ]
     },
     "metadata": {
      "needs_background": "light"
     },
     "output_type": "display_data"
    }
   ],
   "source": [
    "for f in data_features.columns:\n",
    "    data.hist(f);"
   ]
  },
  {
   "cell_type": "code",
   "execution_count": 50,
   "metadata": {
    "scrolled": true
   },
   "outputs": [
    {
     "data": {
      "text/plain": [
       "array([[  1.  , 337.  , 118.  , ...,   4.5 ,   9.65,   1.  ],\n",
       "       [  2.  , 324.  , 107.  , ...,   4.5 ,   8.87,   1.  ],\n",
       "       [  3.  , 316.  , 104.  , ...,   3.5 ,   8.  ,   1.  ],\n",
       "       ...,\n",
       "       [398.  , 330.  , 116.  , ...,   4.5 ,   9.45,   1.  ],\n",
       "       [399.  , 312.  , 103.  , ...,   4.  ,   8.78,   0.  ],\n",
       "       [400.  , 333.  , 117.  , ...,   4.  ,   9.66,   1.  ]])"
      ]
     },
     "execution_count": 50,
     "metadata": {},
     "output_type": "execute_result"
    }
   ],
   "source": [
    "data_features=np.array(data_features)\n",
    "data_labels=np.array(data_labels)\n",
    "data_features"
   ]
  },
  {
   "cell_type": "code",
   "execution_count": 110,
   "metadata": {},
   "outputs": [],
   "source": [
    "def plot_loss(history,upper):\n",
    "  plt.plot(history.history['loss'], label='loss')\n",
    "  plt.plot(history.history['val_loss'], label='val_loss')\n",
    "  plt.ylim([0, upper+0.2])\n",
    "  plt.xlabel('Epoch')\n",
    "  plt.ylabel('Error')\n",
    "  plt.legend()\n",
    "  plt.grid(True)"
   ]
  },
  {
   "cell_type": "code",
   "execution_count": 113,
   "metadata": {},
   "outputs": [],
   "source": [
    "def predict_results(model,history):\n",
    "    trainPredict=model.predict(X_train)\n",
    "    testPredict=model.predict(X_test)\n",
    "    trainPredict=np.expm1(trainPredict)\n",
    "    trainY=np.expm1(y_train)\n",
    "    testPredict=np.expm1(testPredict)\n",
    "    testY=np.expm1(y_test)\n",
    "    trainScore=math.sqrt(mean_squared_error(trainY,trainPredict[:,0]))\n",
    "    print(\"Train Score:\", trainScore)\n",
    "    testScore=math.sqrt(mean_squared_error(testY,testPredict[:,0]))\n",
    "    print(\"Test Score:\" ,testScore)\n",
    "    plot_loss(history,testScore)"
   ]
  },
  {
   "cell_type": "markdown",
   "metadata": {},
   "source": [
    "## Modeling without data Split"
   ]
  },
  {
   "cell_type": "code",
   "execution_count": 41,
   "metadata": {
    "scrolled": true
   },
   "outputs": [],
   "source": [
    "data_model=tf.keras.Sequential([\n",
    "    layers.Dense(64),\n",
    "    layers.Dense(1)\n",
    "])"
   ]
  },
  {
   "cell_type": "code",
   "execution_count": 42,
   "metadata": {
    "scrolled": true
   },
   "outputs": [],
   "source": [
    "data_model.compile(loss=tf.losses.MeanSquaredError(),optimizer=tf.optimizers.Adam())"
   ]
  },
  {
   "cell_type": "code",
   "execution_count": 57,
   "metadata": {
    "scrolled": true
   },
   "outputs": [
    {
     "name": "stdout",
     "output_type": "stream",
     "text": [
      "Epoch 1/100\n",
      "13/13 [==============================] - 0s 914us/step - loss: 0.3016\n",
      "Epoch 2/100\n",
      "13/13 [==============================] - 0s 842us/step - loss: 0.3012\n",
      "Epoch 3/100\n",
      "13/13 [==============================] - 0s 749us/step - loss: 0.2990\n",
      "Epoch 4/100\n",
      "13/13 [==============================] - 0s 918us/step - loss: 0.2982\n",
      "Epoch 5/100\n",
      "13/13 [==============================] - 0s 831us/step - loss: 0.2943\n",
      "Epoch 6/100\n",
      "13/13 [==============================] - 0s 751us/step - loss: 0.2946\n",
      "Epoch 7/100\n",
      "13/13 [==============================] - 0s 668us/step - loss: 0.2932\n",
      "Epoch 8/100\n",
      "13/13 [==============================] - 0s 833us/step - loss: 0.2921\n",
      "Epoch 9/100\n",
      "13/13 [==============================] - 0s 666us/step - loss: 0.2926\n",
      "Epoch 10/100\n",
      "13/13 [==============================] - 0s 830us/step - loss: 0.2918\n",
      "Epoch 11/100\n",
      "13/13 [==============================] - 0s 830us/step - loss: 0.2904\n",
      "Epoch 12/100\n",
      "13/13 [==============================] - 0s 834us/step - loss: 0.2836\n",
      "Epoch 13/100\n",
      "13/13 [==============================] - 0s 668us/step - loss: 0.2821\n",
      "Epoch 14/100\n",
      "13/13 [==============================] - 0s 915us/step - loss: 0.2764\n",
      "Epoch 15/100\n",
      "13/13 [==============================] - 0s 749us/step - loss: 0.2822\n",
      "Epoch 16/100\n",
      "13/13 [==============================] - 0s 686us/step - loss: 0.2752\n",
      "Epoch 17/100\n",
      "13/13 [==============================] - 0s 619us/step - loss: 0.2728\n",
      "Epoch 18/100\n",
      "13/13 [==============================] - 0s 745us/step - loss: 0.2711\n",
      "Epoch 19/100\n",
      "13/13 [==============================] - 0s 584us/step - loss: 0.2692\n",
      "Epoch 20/100\n",
      "13/13 [==============================] - 0s 748us/step - loss: 0.2697\n",
      "Epoch 21/100\n",
      "13/13 [==============================] - 0s 748us/step - loss: 0.2721\n",
      "Epoch 22/100\n",
      "13/13 [==============================] - 0s 665us/step - loss: 0.2641\n",
      "Epoch 23/100\n",
      "13/13 [==============================] - 0s 748us/step - loss: 0.2614\n",
      "Epoch 24/100\n",
      "13/13 [==============================] - 0s 665us/step - loss: 0.2594\n",
      "Epoch 25/100\n",
      "13/13 [==============================] - 0s 665us/step - loss: 0.2616\n",
      "Epoch 26/100\n",
      "13/13 [==============================] - 0s 664us/step - loss: 0.2668\n",
      "Epoch 27/100\n",
      "13/13 [==============================] - 0s 665us/step - loss: 0.2614\n",
      "Epoch 28/100\n",
      "13/13 [==============================] - 0s 665us/step - loss: 0.2528\n",
      "Epoch 29/100\n",
      "13/13 [==============================] - 0s 748us/step - loss: 0.2475\n",
      "Epoch 30/100\n",
      "13/13 [==============================] - 0s 662us/step - loss: 0.2505\n",
      "Epoch 31/100\n",
      "13/13 [==============================] - 0s 667us/step - loss: 0.2513\n",
      "Epoch 32/100\n",
      "13/13 [==============================] - 0s 665us/step - loss: 0.2507\n",
      "Epoch 33/100\n",
      "13/13 [==============================] - 0s 671us/step - loss: 0.2405\n",
      "Epoch 34/100\n",
      "13/13 [==============================] - 0s 665us/step - loss: 0.2374\n",
      "Epoch 35/100\n",
      "13/13 [==============================] - 0s 744us/step - loss: 0.2404\n",
      "Epoch 36/100\n",
      "13/13 [==============================] - 0s 745us/step - loss: 0.2376\n",
      "Epoch 37/100\n",
      "13/13 [==============================] - 0s 748us/step - loss: 0.2349\n",
      "Epoch 38/100\n",
      "13/13 [==============================] - 0s 665us/step - loss: 0.2336\n",
      "Epoch 39/100\n",
      "13/13 [==============================] - 0s 752us/step - loss: 0.2334\n",
      "Epoch 40/100\n",
      "13/13 [==============================] - 0s 748us/step - loss: 0.2383\n",
      "Epoch 41/100\n",
      "13/13 [==============================] - 0s 748us/step - loss: 0.2308\n",
      "Epoch 42/100\n",
      "13/13 [==============================] - 0s 751us/step - loss: 0.2387\n",
      "Epoch 43/100\n",
      "13/13 [==============================] - 0s 665us/step - loss: 0.2301\n",
      "Epoch 44/100\n",
      "13/13 [==============================] - 0s 659us/step - loss: 0.2241\n",
      "Epoch 45/100\n",
      "13/13 [==============================] - 0s 586us/step - loss: 0.2177\n",
      "Epoch 46/100\n",
      "13/13 [==============================] - 0s 666us/step - loss: 0.2178\n",
      "Epoch 47/100\n",
      "13/13 [==============================] - 0s 748us/step - loss: 0.2162\n",
      "Epoch 48/100\n",
      "13/13 [==============================] - 0s 749us/step - loss: 0.2123\n",
      "Epoch 49/100\n",
      "13/13 [==============================] - 0s 748us/step - loss: 0.2129\n",
      "Epoch 50/100\n",
      "13/13 [==============================] - 0s 669us/step - loss: 0.2130\n",
      "Epoch 51/100\n",
      "13/13 [==============================] - 0s 665us/step - loss: 0.2056\n",
      "Epoch 52/100\n",
      "13/13 [==============================] - 0s 663us/step - loss: 0.2085\n",
      "Epoch 53/100\n",
      "13/13 [==============================] - 0s 748us/step - loss: 0.2033\n",
      "Epoch 54/100\n",
      "13/13 [==============================] - 0s 750us/step - loss: 0.2105\n",
      "Epoch 55/100\n",
      "13/13 [==============================] - ETA: 0s - loss: 0.185 - 0s 748us/step - loss: 0.2024\n",
      "Epoch 56/100\n",
      "13/13 [==============================] - 0s 748us/step - loss: 0.2017\n",
      "Epoch 57/100\n",
      "13/13 [==============================] - 0s 748us/step - loss: 0.1983\n",
      "Epoch 58/100\n",
      "13/13 [==============================] - 0s 665us/step - loss: 0.1942\n",
      "Epoch 59/100\n",
      "13/13 [==============================] - 0s 748us/step - loss: 0.1945\n",
      "Epoch 60/100\n",
      "13/13 [==============================] - 0s 665us/step - loss: 0.2001\n",
      "Epoch 61/100\n",
      "13/13 [==============================] - 0s 666us/step - loss: 0.1919\n",
      "Epoch 62/100\n",
      "13/13 [==============================] - 0s 665us/step - loss: 0.1894\n",
      "Epoch 63/100\n",
      "13/13 [==============================] - 0s 665us/step - loss: 0.1881\n",
      "Epoch 64/100\n",
      "13/13 [==============================] - 0s 665us/step - loss: 0.1875\n",
      "Epoch 65/100\n",
      "13/13 [==============================] - 0s 665us/step - loss: 0.1872\n",
      "Epoch 66/100\n",
      "13/13 [==============================] - 0s 749us/step - loss: 0.1852\n",
      "Epoch 67/100\n",
      "13/13 [==============================] - 0s 746us/step - loss: 0.1833\n",
      "Epoch 68/100\n",
      "13/13 [==============================] - 0s 746us/step - loss: 0.1864\n",
      "Epoch 69/100\n",
      "13/13 [==============================] - 0s 665us/step - loss: 0.1857\n",
      "Epoch 70/100\n",
      "13/13 [==============================] - 0s 749us/step - loss: 0.1893\n",
      "Epoch 71/100\n",
      "13/13 [==============================] - 0s 668us/step - loss: 0.1765\n",
      "Epoch 72/100\n",
      "13/13 [==============================] - 0s 665us/step - loss: 0.1773\n",
      "Epoch 73/100\n",
      "13/13 [==============================] - 0s 665us/step - loss: 0.1727\n",
      "Epoch 74/100\n",
      "13/13 [==============================] - 0s 748us/step - loss: 0.1713\n",
      "Epoch 75/100\n",
      "13/13 [==============================] - 0s 746us/step - loss: 0.1711\n",
      "Epoch 76/100\n",
      "13/13 [==============================] - 0s 750us/step - loss: 0.1781\n",
      "Epoch 77/100\n",
      "13/13 [==============================] - 0s 666us/step - loss: 0.1683\n",
      "Epoch 78/100\n",
      "13/13 [==============================] - 0s 748us/step - loss: 0.1674\n",
      "Epoch 79/100\n",
      "13/13 [==============================] - 0s 582us/step - loss: 0.1717\n",
      "Epoch 80/100\n",
      "13/13 [==============================] - 0s 748us/step - loss: 0.1693\n",
      "Epoch 81/100\n",
      "13/13 [==============================] - 0s 748us/step - loss: 0.1709\n",
      "Epoch 82/100\n",
      "13/13 [==============================] - 0s 662us/step - loss: 0.1735\n",
      "Epoch 83/100\n",
      "13/13 [==============================] - 0s 667us/step - loss: 0.1630\n",
      "Epoch 84/100\n",
      "13/13 [==============================] - 0s 639us/step - loss: 0.1583\n",
      "Epoch 85/100\n",
      "13/13 [==============================] - 0s 665us/step - loss: 0.1577\n",
      "Epoch 86/100\n",
      "13/13 [==============================] - 0s 740us/step - loss: 0.1564\n",
      "Epoch 87/100\n",
      "13/13 [==============================] - 0s 664us/step - loss: 0.1538\n",
      "Epoch 88/100\n",
      "13/13 [==============================] - 0s 664us/step - loss: 0.1563\n",
      "Epoch 89/100\n",
      "13/13 [==============================] - 0s 748us/step - loss: 0.1535\n",
      "Epoch 90/100\n",
      "13/13 [==============================] - 0s 749us/step - loss: 0.1513\n",
      "Epoch 91/100\n",
      "13/13 [==============================] - 0s 662us/step - loss: 0.1532\n",
      "Epoch 92/100\n",
      "13/13 [==============================] - 0s 665us/step - loss: 0.1500\n",
      "Epoch 93/100\n",
      "13/13 [==============================] - 0s 745us/step - loss: 0.1524\n",
      "Epoch 94/100\n",
      "13/13 [==============================] - 0s 748us/step - loss: 0.1529\n",
      "Epoch 95/100\n",
      "13/13 [==============================] - 0s 746us/step - loss: 0.1543\n",
      "Epoch 96/100\n",
      "13/13 [==============================] - 0s 914us/step - loss: 0.1469\n",
      "Epoch 97/100\n",
      "13/13 [==============================] - 0s 748us/step - loss: 0.1442\n",
      "Epoch 98/100\n",
      "13/13 [==============================] - 0s 749us/step - loss: 0.1454\n",
      "Epoch 99/100\n"
     ]
    },
    {
     "name": "stdout",
     "output_type": "stream",
     "text": [
      "13/13 [==============================] - 0s 830us/step - loss: 0.1494\n",
      "Epoch 100/100\n",
      "13/13 [==============================] - 0s 915us/step - loss: 0.1387\n"
     ]
    }
   ],
   "source": [
    "history=data_model.fit(data_features,data_labels,epochs=100)"
   ]
  },
  {
   "cell_type": "code",
   "execution_count": 58,
   "metadata": {},
   "outputs": [
    {
     "data": {
      "image/png": "[encoded data removed]",
      "text/plain": [
       "<Figure size 432x288 with 1 Axes>"
      ]
     },
     "metadata": {
      "needs_background": "light"
     },
     "output_type": "display_data"
    }
   ],
   "source": [
    "plt.plot(history.history['loss'], label='loss')\n",
    "plt.xlabel('Epoch')\n",
    "plt.ylabel('Error')\n",
    "plt.legend()\n",
    "plt.grid(True)"
   ]
  },
  {
   "cell_type": "markdown",
   "metadata": {},
   "source": [
    "As there is no testing data we evaluated the error over each epoch"
   ]
  },
  {
   "cell_type": "markdown",
   "metadata": {},
   "source": [
    "## Data Model using train and test split"
   ]
  },
  {
   "cell_type": "code",
   "execution_count": 59,
   "metadata": {
    "scrolled": true
   },
   "outputs": [],
   "source": [
    "from sklearn.model_selection import train_test_split\n",
    "X_train, X_test, y_train, y_test = train_test_split(data_features, data_labels, test_size=0.20, random_state=42)"
   ]
  },
  {
   "cell_type": "code",
   "execution_count": 124,
   "metadata": {
    "scrolled": true
   },
   "outputs": [],
   "source": [
    "model=Sequential()"
   ]
  },
  {
   "cell_type": "code",
   "execution_count": 125,
   "metadata": {
    "scrolled": true
   },
   "outputs": [],
   "source": [
    "model.add(Dense(1))\n",
    "model.add(Dense(64))"
   ]
  },
  {
   "cell_type": "code",
   "execution_count": 126,
   "metadata": {
    "scrolled": true
   },
   "outputs": [],
   "source": [
    "model.compile(loss=tf.losses.MeanSquaredError(),optimizer=tf.optimizers.Adam())"
   ]
  },
  {
   "cell_type": "code",
   "execution_count": 127,
   "metadata": {
    "scrolled": true
   },
   "outputs": [
    {
     "name": "stdout",
     "output_type": "stream",
     "text": [
      "Epoch 1/200\n",
      "26/26 [==============================] - 0s 5ms/step - loss: 2299.2797 - val_loss: 1720.8179\n",
      "Epoch 2/200\n",
      "26/26 [==============================] - 0s 2ms/step - loss: 1548.9060 - val_loss: 1192.4720\n",
      "Epoch 3/200\n",
      "26/26 [==============================] - 0s 2ms/step - loss: 1072.6588 - val_loss: 844.2969\n",
      "Epoch 4/200\n",
      "26/26 [==============================] - 0s 2ms/step - loss: 768.6570 - val_loss: 610.6543\n",
      "Epoch 5/200\n",
      "26/26 [==============================] - 0s 2ms/step - loss: 557.3336 - val_loss: 449.3769\n",
      "Epoch 6/200\n",
      "26/26 [==============================] - 0s 2ms/step - loss: 409.7623 - val_loss: 336.6239\n",
      "Epoch 7/200\n",
      "26/26 [==============================] - 0s 2ms/step - loss: 314.5328 - val_loss: 255.0852\n",
      "Epoch 8/200\n",
      "26/26 [==============================] - 0s 2ms/step - loss: 236.6914 - val_loss: 195.6621\n",
      "Epoch 9/200\n",
      "26/26 [==============================] - 0s 2ms/step - loss: 179.3335 - val_loss: 151.4032\n",
      "Epoch 10/200\n",
      "26/26 [==============================] - 0s 2ms/step - loss: 139.0809 - val_loss: 117.9483\n",
      "Epoch 11/200\n",
      "26/26 [==============================] - 0s 2ms/step - loss: 109.8256 - val_loss: 92.3203\n",
      "Epoch 12/200\n",
      "26/26 [==============================] - 0s 2ms/step - loss: 84.7478 - val_loss: 72.6928\n",
      "Epoch 13/200\n",
      "26/26 [==============================] - 0s 2ms/step - loss: 67.9794 - val_loss: 57.3338\n",
      "Epoch 14/200\n",
      "26/26 [==============================] - 0s 2ms/step - loss: 52.7456 - val_loss: 45.3331\n",
      "Epoch 15/200\n",
      "26/26 [==============================] - 0s 2ms/step - loss: 42.0524 - val_loss: 35.8091\n",
      "Epoch 16/200\n",
      "26/26 [==============================] - 0s 2ms/step - loss: 33.0526 - val_loss: 28.3090\n",
      "Epoch 17/200\n",
      "26/26 [==============================] - 0s 2ms/step - loss: 26.2026 - val_loss: 22.3673\n",
      "Epoch 18/200\n",
      "26/26 [==============================] - 0s 2ms/step - loss: 20.6929 - val_loss: 17.6284\n",
      "Epoch 19/200\n",
      "26/26 [==============================] - 0s 2ms/step - loss: 16.5323 - val_loss: 13.8405\n",
      "Epoch 20/200\n",
      "26/26 [==============================] - 0s 2ms/step - loss: 12.8272 - val_loss: 10.8673\n",
      "Epoch 21/200\n",
      "26/26 [==============================] - 0s 2ms/step - loss: 10.1246 - val_loss: 8.4895\n",
      "Epoch 22/200\n",
      "26/26 [==============================] - 0s 2ms/step - loss: 7.8673 - val_loss: 6.6202\n",
      "Epoch 23/200\n",
      "26/26 [==============================] - 0s 2ms/step - loss: 6.1127 - val_loss: 5.1359\n",
      "Epoch 24/200\n",
      "26/26 [==============================] - 0s 2ms/step - loss: 4.7610 - val_loss: 3.9645\n",
      "Epoch 25/200\n",
      "26/26 [==============================] - 0s 2ms/step - loss: 3.6096 - val_loss: 3.0565\n",
      "Epoch 26/200\n",
      "26/26 [==============================] - 0s 2ms/step - loss: 2.7663 - val_loss: 2.3417\n",
      "Epoch 27/200\n",
      "26/26 [==============================] - 0s 2ms/step - loss: 2.1401 - val_loss: 1.7851\n",
      "Epoch 28/200\n",
      "26/26 [==============================] - 0s 2ms/step - loss: 1.6424 - val_loss: 1.3546\n",
      "Epoch 29/200\n",
      "26/26 [==============================] - 0s 2ms/step - loss: 1.2564 - val_loss: 1.0232\n",
      "Epoch 30/200\n",
      "26/26 [==============================] - 0s 2ms/step - loss: 0.9424 - val_loss: 0.7719\n",
      "Epoch 31/200\n",
      "26/26 [==============================] - 0s 2ms/step - loss: 0.6941 - val_loss: 0.5803\n",
      "Epoch 32/200\n",
      "26/26 [==============================] - 0s 2ms/step - loss: 0.5269 - val_loss: 0.4343\n",
      "Epoch 33/200\n",
      "26/26 [==============================] - 0s 2ms/step - loss: 0.3860 - val_loss: 0.3249\n",
      "Epoch 34/200\n",
      "26/26 [==============================] - 0s 2ms/step - loss: 0.2900 - val_loss: 0.2433\n",
      "Epoch 35/200\n",
      "26/26 [==============================] - 0s 2ms/step - loss: 0.2132 - val_loss: 0.1827\n",
      "Epoch 36/200\n",
      "26/26 [==============================] - 0s 2ms/step - loss: 0.1604 - val_loss: 0.1377\n",
      "Epoch 37/200\n",
      "26/26 [==============================] - 0s 2ms/step - loss: 0.1217 - val_loss: 0.1046\n",
      "Epoch 38/200\n",
      "26/26 [==============================] - 0s 2ms/step - loss: 0.0928 - val_loss: 0.0806\n",
      "Epoch 39/200\n",
      "26/26 [==============================] - 0s 2ms/step - loss: 0.0685 - val_loss: 0.0632\n",
      "Epoch 40/200\n",
      "26/26 [==============================] - 0s 2ms/step - loss: 0.0545 - val_loss: 0.0504\n",
      "Epoch 41/200\n",
      "26/26 [==============================] - 0s 2ms/step - loss: 0.0406 - val_loss: 0.0414\n",
      "Epoch 42/200\n",
      "26/26 [==============================] - 0s 2ms/step - loss: 0.0364 - val_loss: 0.0350\n",
      "Epoch 43/200\n",
      "26/26 [==============================] - 0s 2ms/step - loss: 0.0266 - val_loss: 0.0304\n",
      "Epoch 44/200\n",
      "26/26 [==============================] - 0s 2ms/step - loss: 0.0234 - val_loss: 0.0272\n",
      "Epoch 45/200\n",
      "26/26 [==============================] - 0s 2ms/step - loss: 0.0228 - val_loss: 0.0249\n",
      "Epoch 46/200\n",
      "26/26 [==============================] - 0s 2ms/step - loss: 0.0219 - val_loss: 0.0234\n",
      "Epoch 47/200\n",
      "26/26 [==============================] - 0s 2ms/step - loss: 0.0184 - val_loss: 0.0222\n",
      "Epoch 48/200\n",
      "26/26 [==============================] - 0s 2ms/step - loss: 0.0163 - val_loss: 0.0215\n",
      "Epoch 49/200\n",
      "26/26 [==============================] - 0s 2ms/step - loss: 0.0160 - val_loss: 0.0210\n",
      "Epoch 50/200\n",
      "26/26 [==============================] - 0s 2ms/step - loss: 0.0156 - val_loss: 0.0207\n",
      "Epoch 51/200\n",
      "26/26 [==============================] - 0s 10ms/step - loss: 0.0162 - val_loss: 0.0204\n",
      "Epoch 52/200\n",
      "26/26 [==============================] - 0s 2ms/step - loss: 0.0173 - val_loss: 0.0203\n",
      "Epoch 53/200\n",
      "26/26 [==============================] - 0s 2ms/step - loss: 0.0196 - val_loss: 0.0201\n",
      "Epoch 54/200\n",
      "26/26 [==============================] - 0s 2ms/step - loss: 0.0158 - val_loss: 0.0200\n",
      "Epoch 55/200\n",
      "26/26 [==============================] - 0s 2ms/step - loss: 0.0164 - val_loss: 0.0199\n",
      "Epoch 56/200\n",
      "26/26 [==============================] - 0s 2ms/step - loss: 0.0172 - val_loss: 0.0199\n",
      "Epoch 57/200\n",
      "26/26 [==============================] - 0s 2ms/step - loss: 0.0161 - val_loss: 0.0199\n",
      "Epoch 58/200\n",
      "26/26 [==============================] - 0s 2ms/step - loss: 0.0177 - val_loss: 0.0199\n",
      "Epoch 59/200\n",
      "26/26 [==============================] - 0s 2ms/step - loss: 0.0174 - val_loss: 0.0199\n",
      "Epoch 60/200\n",
      "26/26 [==============================] - 0s 2ms/step - loss: 0.0175 - val_loss: 0.0198\n",
      "Epoch 61/200\n",
      "26/26 [==============================] - 0s 2ms/step - loss: 0.0162 - val_loss: 0.0198\n",
      "Epoch 62/200\n",
      "26/26 [==============================] - 0s 2ms/step - loss: 0.0175 - val_loss: 0.0198\n",
      "Epoch 63/200\n",
      "26/26 [==============================] - 0s 2ms/step - loss: 0.0179 - val_loss: 0.0199\n",
      "Epoch 64/200\n",
      "26/26 [==============================] - 0s 2ms/step - loss: 0.0150 - val_loss: 0.0199\n",
      "Epoch 65/200\n",
      "26/26 [==============================] - 0s 2ms/step - loss: 0.0143 - val_loss: 0.0198\n",
      "Epoch 66/200\n",
      "26/26 [==============================] - 0s 2ms/step - loss: 0.0160 - val_loss: 0.0199\n",
      "Epoch 67/200\n",
      "26/26 [==============================] - 0s 2ms/step - loss: 0.0157 - val_loss: 0.0198\n",
      "Epoch 68/200\n",
      "26/26 [==============================] - 0s 2ms/step - loss: 0.0145 - val_loss: 0.0198\n",
      "Epoch 69/200\n",
      "26/26 [==============================] - 0s 2ms/step - loss: 0.0176 - val_loss: 0.0199\n",
      "Epoch 70/200\n",
      "26/26 [==============================] - 0s 2ms/step - loss: 0.0154 - val_loss: 0.0201\n",
      "Epoch 71/200\n",
      "26/26 [==============================] - 0s 2ms/step - loss: 0.0178 - val_loss: 0.0198\n",
      "Epoch 72/200\n",
      "26/26 [==============================] - 0s 2ms/step - loss: 0.0156 - val_loss: 0.0200\n",
      "Epoch 73/200\n",
      "26/26 [==============================] - 0s 2ms/step - loss: 0.0165 - val_loss: 0.0199\n",
      "Epoch 74/200\n",
      "26/26 [==============================] - 0s 2ms/step - loss: 0.0162 - val_loss: 0.0199\n",
      "Epoch 75/200\n",
      "26/26 [==============================] - 0s 2ms/step - loss: 0.0175 - val_loss: 0.0198\n",
      "Epoch 76/200\n",
      "26/26 [==============================] - 0s 2ms/step - loss: 0.0157 - val_loss: 0.0198\n",
      "Epoch 77/200\n",
      "26/26 [==============================] - 0s 2ms/step - loss: 0.0164 - val_loss: 0.0198\n",
      "Epoch 78/200\n",
      "26/26 [==============================] - 0s 2ms/step - loss: 0.0166 - val_loss: 0.0198\n",
      "Epoch 79/200\n",
      "26/26 [==============================] - 0s 2ms/step - loss: 0.0154 - val_loss: 0.0198\n",
      "Epoch 80/200\n",
      "26/26 [==============================] - 0s 2ms/step - loss: 0.0174 - val_loss: 0.0199\n",
      "Epoch 81/200\n",
      "26/26 [==============================] - 0s 2ms/step - loss: 0.0145 - val_loss: 0.0200\n",
      "Epoch 82/200\n"
     ]
    },
    {
     "name": "stdout",
     "output_type": "stream",
     "text": [
      "26/26 [==============================] - 0s 2ms/step - loss: 0.0144 - val_loss: 0.0199\n",
      "Epoch 83/200\n",
      "26/26 [==============================] - 0s 2ms/step - loss: 0.0156 - val_loss: 0.0199\n",
      "Epoch 84/200\n",
      "26/26 [==============================] - 0s 2ms/step - loss: 0.0165 - val_loss: 0.0200\n",
      "Epoch 85/200\n",
      "26/26 [==============================] - 0s 2ms/step - loss: 0.0167 - val_loss: 0.0199\n",
      "Epoch 86/200\n",
      "26/26 [==============================] - 0s 2ms/step - loss: 0.0159 - val_loss: 0.0199\n",
      "Epoch 87/200\n",
      "26/26 [==============================] - 0s 2ms/step - loss: 0.0175 - val_loss: 0.0198\n",
      "Epoch 88/200\n",
      "26/26 [==============================] - 0s 2ms/step - loss: 0.0157 - val_loss: 0.0199\n",
      "Epoch 89/200\n",
      "26/26 [==============================] - 0s 2ms/step - loss: 0.0150 - val_loss: 0.0199\n",
      "Epoch 90/200\n",
      "26/26 [==============================] - 0s 2ms/step - loss: 0.0163 - val_loss: 0.0199\n",
      "Epoch 91/200\n",
      "26/26 [==============================] - 0s 2ms/step - loss: 0.0178 - val_loss: 0.0201\n",
      "Epoch 92/200\n",
      "26/26 [==============================] - 0s 2ms/step - loss: 0.0161 - val_loss: 0.0198\n",
      "Epoch 93/200\n",
      "26/26 [==============================] - 0s 2ms/step - loss: 0.0157 - val_loss: 0.0197\n",
      "Epoch 94/200\n",
      "26/26 [==============================] - 0s 2ms/step - loss: 0.0157 - val_loss: 0.0198\n",
      "Epoch 95/200\n",
      "26/26 [==============================] - 0s 2ms/step - loss: 0.0157 - val_loss: 0.0198\n",
      "Epoch 96/200\n",
      "26/26 [==============================] - 0s 2ms/step - loss: 0.0158 - val_loss: 0.0198\n",
      "Epoch 97/200\n",
      "26/26 [==============================] - 0s 2ms/step - loss: 0.0148 - val_loss: 0.0200\n",
      "Epoch 98/200\n",
      "26/26 [==============================] - 0s 2ms/step - loss: 0.0163 - val_loss: 0.0198\n",
      "Epoch 99/200\n",
      "26/26 [==============================] - 0s 2ms/step - loss: 0.0150 - val_loss: 0.0198\n",
      "Epoch 100/200\n",
      "26/26 [==============================] - 0s 2ms/step - loss: 0.0138 - val_loss: 0.0199\n",
      "Epoch 101/200\n",
      "26/26 [==============================] - 0s 2ms/step - loss: 0.0168 - val_loss: 0.0198\n",
      "Epoch 102/200\n",
      "26/26 [==============================] - 0s 2ms/step - loss: 0.0157 - val_loss: 0.0201\n",
      "Epoch 103/200\n",
      "26/26 [==============================] - 0s 2ms/step - loss: 0.0170 - val_loss: 0.0198\n",
      "Epoch 104/200\n",
      "26/26 [==============================] - 0s 2ms/step - loss: 0.0152 - val_loss: 0.0199\n",
      "Epoch 105/200\n",
      "26/26 [==============================] - 0s 2ms/step - loss: 0.0163 - val_loss: 0.0199\n",
      "Epoch 106/200\n",
      "26/26 [==============================] - 0s 2ms/step - loss: 0.0158 - val_loss: 0.0198\n",
      "Epoch 107/200\n",
      "26/26 [==============================] - 0s 2ms/step - loss: 0.0166 - val_loss: 0.0200\n",
      "Epoch 108/200\n",
      "26/26 [==============================] - 0s 2ms/step - loss: 0.0141 - val_loss: 0.0201\n",
      "Epoch 109/200\n",
      "26/26 [==============================] - 0s 2ms/step - loss: 0.0163 - val_loss: 0.0198\n",
      "Epoch 110/200\n",
      "26/26 [==============================] - 0s 2ms/step - loss: 0.0148 - val_loss: 0.0202\n",
      "Epoch 111/200\n",
      "26/26 [==============================] - 0s 2ms/step - loss: 0.0146 - val_loss: 0.0199\n",
      "Epoch 112/200\n",
      "26/26 [==============================] - 0s 2ms/step - loss: 0.0163 - val_loss: 0.0200\n",
      "Epoch 113/200\n",
      "26/26 [==============================] - 0s 2ms/step - loss: 0.0160 - val_loss: 0.0199\n",
      "Epoch 114/200\n",
      "26/26 [==============================] - 0s 2ms/step - loss: 0.0159 - val_loss: 0.0198\n",
      "Epoch 115/200\n",
      "26/26 [==============================] - 0s 2ms/step - loss: 0.0151 - val_loss: 0.0199\n",
      "Epoch 116/200\n",
      "26/26 [==============================] - 0s 2ms/step - loss: 0.0154 - val_loss: 0.0199\n",
      "Epoch 117/200\n",
      "26/26 [==============================] - 0s 2ms/step - loss: 0.0145 - val_loss: 0.0199\n",
      "Epoch 118/200\n",
      "26/26 [==============================] - 0s 2ms/step - loss: 0.0155 - val_loss: 0.0198\n",
      "Epoch 119/200\n",
      "26/26 [==============================] - 0s 2ms/step - loss: 0.0146 - val_loss: 0.0198\n",
      "Epoch 120/200\n",
      "26/26 [==============================] - 0s 2ms/step - loss: 0.0163 - val_loss: 0.0198\n",
      "Epoch 121/200\n",
      "26/26 [==============================] - 0s 2ms/step - loss: 0.0141 - val_loss: 0.0199\n",
      "Epoch 122/200\n",
      "26/26 [==============================] - 0s 2ms/step - loss: 0.0161 - val_loss: 0.0198\n",
      "Epoch 123/200\n",
      "26/26 [==============================] - 0s 2ms/step - loss: 0.0158 - val_loss: 0.0198\n",
      "Epoch 124/200\n",
      "26/26 [==============================] - 0s 2ms/step - loss: 0.0167 - val_loss: 0.0198\n",
      "Epoch 125/200\n",
      "26/26 [==============================] - 0s 2ms/step - loss: 0.0154 - val_loss: 0.0198\n",
      "Epoch 126/200\n",
      "26/26 [==============================] - 0s 2ms/step - loss: 0.0140 - val_loss: 0.0198\n",
      "Epoch 127/200\n",
      "26/26 [==============================] - 0s 2ms/step - loss: 0.0169 - val_loss: 0.0202\n",
      "Epoch 128/200\n",
      "26/26 [==============================] - 0s 2ms/step - loss: 0.0196 - val_loss: 0.0199\n",
      "Epoch 129/200\n",
      "26/26 [==============================] - 0s 2ms/step - loss: 0.0147 - val_loss: 0.0199\n",
      "Epoch 130/200\n",
      "26/26 [==============================] - 0s 2ms/step - loss: 0.0150 - val_loss: 0.0202\n",
      "Epoch 131/200\n",
      "26/26 [==============================] - 0s 2ms/step - loss: 0.0168 - val_loss: 0.0199\n",
      "Epoch 132/200\n",
      "26/26 [==============================] - 0s 2ms/step - loss: 0.0135 - val_loss: 0.0198\n",
      "Epoch 133/200\n",
      "26/26 [==============================] - 0s 2ms/step - loss: 0.0170 - val_loss: 0.0198\n",
      "Epoch 134/200\n",
      "26/26 [==============================] - 0s 2ms/step - loss: 0.0173 - val_loss: 0.0199\n",
      "Epoch 135/200\n",
      "26/26 [==============================] - 0s 2ms/step - loss: 0.0154 - val_loss: 0.0199\n",
      "Epoch 136/200\n",
      "26/26 [==============================] - 0s 2ms/step - loss: 0.0172 - val_loss: 0.0198\n",
      "Epoch 137/200\n",
      "26/26 [==============================] - 0s 2ms/step - loss: 0.0173 - val_loss: 0.0198\n",
      "Epoch 138/200\n",
      "26/26 [==============================] - 0s 2ms/step - loss: 0.0162 - val_loss: 0.0198\n",
      "Epoch 139/200\n",
      "26/26 [==============================] - 0s 2ms/step - loss: 0.0182 - val_loss: 0.0200\n",
      "Epoch 140/200\n",
      "26/26 [==============================] - 0s 10ms/step - loss: 0.0161 - val_loss: 0.0198\n",
      "Epoch 141/200\n",
      "26/26 [==============================] - 0s 2ms/step - loss: 0.0175 - val_loss: 0.0199\n",
      "Epoch 142/200\n",
      "26/26 [==============================] - 0s 2ms/step - loss: 0.0182 - val_loss: 0.0200\n",
      "Epoch 143/200\n",
      "26/26 [==============================] - 0s 2ms/step - loss: 0.0144 - val_loss: 0.0200\n",
      "Epoch 144/200\n",
      "26/26 [==============================] - 0s 2ms/step - loss: 0.0156 - val_loss: 0.0201\n",
      "Epoch 145/200\n",
      "26/26 [==============================] - 0s 2ms/step - loss: 0.0170 - val_loss: 0.0201\n",
      "Epoch 146/200\n",
      "26/26 [==============================] - 0s 2ms/step - loss: 0.0133 - val_loss: 0.0200\n",
      "Epoch 147/200\n",
      "26/26 [==============================] - 0s 2ms/step - loss: 0.0159 - val_loss: 0.0198\n",
      "Epoch 148/200\n",
      "26/26 [==============================] - 0s 2ms/step - loss: 0.0174 - val_loss: 0.0200\n",
      "Epoch 149/200\n",
      "26/26 [==============================] - 0s 2ms/step - loss: 0.0183 - val_loss: 0.0198\n",
      "Epoch 150/200\n",
      "26/26 [==============================] - 0s 2ms/step - loss: 0.0185 - val_loss: 0.0198\n",
      "Epoch 151/200\n",
      "26/26 [==============================] - 0s 2ms/step - loss: 0.0156 - val_loss: 0.0202\n",
      "Epoch 152/200\n",
      "26/26 [==============================] - 0s 2ms/step - loss: 0.0153 - val_loss: 0.0200\n",
      "Epoch 153/200\n",
      "26/26 [==============================] - 0s 2ms/step - loss: 0.0165 - val_loss: 0.0202\n",
      "Epoch 154/200\n",
      "26/26 [==============================] - 0s 2ms/step - loss: 0.0154 - val_loss: 0.0200\n",
      "Epoch 155/200\n",
      "26/26 [==============================] - 0s 2ms/step - loss: 0.0174 - val_loss: 0.0199\n",
      "Epoch 156/200\n",
      "26/26 [==============================] - 0s 2ms/step - loss: 0.0159 - val_loss: 0.0198\n",
      "Epoch 157/200\n",
      "26/26 [==============================] - 0s 2ms/step - loss: 0.0157 - val_loss: 0.0199\n",
      "Epoch 158/200\n",
      "26/26 [==============================] - 0s 2ms/step - loss: 0.0166 - val_loss: 0.0199\n",
      "Epoch 159/200\n",
      "26/26 [==============================] - 0s 2ms/step - loss: 0.0149 - val_loss: 0.0198\n",
      "Epoch 160/200\n",
      "26/26 [==============================] - 0s 2ms/step - loss: 0.0166 - val_loss: 0.0200\n",
      "Epoch 161/200\n",
      "26/26 [==============================] - 0s 2ms/step - loss: 0.0171 - val_loss: 0.0200\n",
      "Epoch 162/200\n",
      "26/26 [==============================] - 0s 2ms/step - loss: 0.0171 - val_loss: 0.0200\n",
      "Epoch 163/200\n"
     ]
    },
    {
     "name": "stdout",
     "output_type": "stream",
     "text": [
      "26/26 [==============================] - 0s 2ms/step - loss: 0.0153 - val_loss: 0.0198\n",
      "Epoch 164/200\n",
      "26/26 [==============================] - 0s 2ms/step - loss: 0.0139 - val_loss: 0.0199\n",
      "Epoch 165/200\n",
      "26/26 [==============================] - 0s 2ms/step - loss: 0.0160 - val_loss: 0.0202\n",
      "Epoch 166/200\n",
      "26/26 [==============================] - 0s 2ms/step - loss: 0.0154 - val_loss: 0.0198\n",
      "Epoch 167/200\n",
      "26/26 [==============================] - 0s 2ms/step - loss: 0.0157 - val_loss: 0.0199\n",
      "Epoch 168/200\n",
      "26/26 [==============================] - 0s 2ms/step - loss: 0.0182 - val_loss: 0.0203\n",
      "Epoch 169/200\n",
      "26/26 [==============================] - 0s 2ms/step - loss: 0.0142 - val_loss: 0.0202\n",
      "Epoch 170/200\n",
      "26/26 [==============================] - 0s 2ms/step - loss: 0.0163 - val_loss: 0.0200\n",
      "Epoch 171/200\n",
      "26/26 [==============================] - 0s 2ms/step - loss: 0.0184 - val_loss: 0.0200\n",
      "Epoch 172/200\n",
      "26/26 [==============================] - 0s 2ms/step - loss: 0.0146 - val_loss: 0.0201\n",
      "Epoch 173/200\n",
      "26/26 [==============================] - 0s 2ms/step - loss: 0.0157 - val_loss: 0.0200\n",
      "Epoch 174/200\n",
      "26/26 [==============================] - 0s 2ms/step - loss: 0.0178 - val_loss: 0.0198\n",
      "Epoch 175/200\n",
      "26/26 [==============================] - 0s 2ms/step - loss: 0.0159 - val_loss: 0.0205\n",
      "Epoch 176/200\n",
      "26/26 [==============================] - 0s 2ms/step - loss: 0.0141 - val_loss: 0.0203\n",
      "Epoch 177/200\n",
      "26/26 [==============================] - 0s 2ms/step - loss: 0.0156 - val_loss: 0.0201\n",
      "Epoch 178/200\n",
      "26/26 [==============================] - 0s 2ms/step - loss: 0.0153 - val_loss: 0.0200\n",
      "Epoch 179/200\n",
      "26/26 [==============================] - 0s 2ms/step - loss: 0.0184 - val_loss: 0.0199\n",
      "Epoch 180/200\n",
      "26/26 [==============================] - 0s 2ms/step - loss: 0.0161 - val_loss: 0.0200\n",
      "Epoch 181/200\n",
      "26/26 [==============================] - 0s 2ms/step - loss: 0.0157 - val_loss: 0.0203\n",
      "Epoch 182/200\n",
      "26/26 [==============================] - 0s 2ms/step - loss: 0.0148 - val_loss: 0.0207\n",
      "Epoch 183/200\n",
      "26/26 [==============================] - 0s 2ms/step - loss: 0.0164 - val_loss: 0.0199\n",
      "Epoch 184/200\n",
      "26/26 [==============================] - 0s 2ms/step - loss: 0.0157 - val_loss: 0.0198\n",
      "Epoch 185/200\n",
      "26/26 [==============================] - 0s 2ms/step - loss: 0.0169 - val_loss: 0.0198\n",
      "Epoch 186/200\n",
      "26/26 [==============================] - 0s 2ms/step - loss: 0.0166 - val_loss: 0.0198\n",
      "Epoch 187/200\n",
      "26/26 [==============================] - 0s 2ms/step - loss: 0.0169 - val_loss: 0.0199\n",
      "Epoch 188/200\n",
      "26/26 [==============================] - 0s 2ms/step - loss: 0.0144 - val_loss: 0.0198\n",
      "Epoch 189/200\n",
      "26/26 [==============================] - 0s 2ms/step - loss: 0.0170 - val_loss: 0.0200\n",
      "Epoch 190/200\n",
      "26/26 [==============================] - 0s 2ms/step - loss: 0.0158 - val_loss: 0.0202\n",
      "Epoch 191/200\n",
      "26/26 [==============================] - 0s 2ms/step - loss: 0.0151 - val_loss: 0.0201\n",
      "Epoch 192/200\n",
      "26/26 [==============================] - 0s 2ms/step - loss: 0.0166 - val_loss: 0.0200\n",
      "Epoch 193/200\n",
      "26/26 [==============================] - 0s 2ms/step - loss: 0.0153 - val_loss: 0.0198\n",
      "Epoch 194/200\n",
      "26/26 [==============================] - 0s 2ms/step - loss: 0.0155 - val_loss: 0.0205\n",
      "Epoch 195/200\n",
      "26/26 [==============================] - 0s 2ms/step - loss: 0.0151 - val_loss: 0.0200\n",
      "Epoch 196/200\n",
      "26/26 [==============================] - 0s 2ms/step - loss: 0.0183 - val_loss: 0.0202\n",
      "Epoch 197/200\n",
      "26/26 [==============================] - 0s 2ms/step - loss: 0.0166 - val_loss: 0.0204\n",
      "Epoch 198/200\n",
      "26/26 [==============================] - 0s 2ms/step - loss: 0.0178 - val_loss: 0.0201\n",
      "Epoch 199/200\n",
      "26/26 [==============================] - 0s 2ms/step - loss: 0.0150 - val_loss: 0.0198\n",
      "Epoch 200/200\n",
      "26/26 [==============================] - 0s 2ms/step - loss: 0.0161 - val_loss: 0.0198\n"
     ]
    }
   ],
   "source": [
    "history=model.fit(X_train,y_train,epochs=200,batch_size=10,validation_split=0.2)"
   ]
  },
  {
   "cell_type": "code",
   "execution_count": 128,
   "metadata": {
    "scrolled": true
   },
   "outputs": [],
   "source": [
    "trainPredict=model.predict(X_train)\n",
    "testPredict=model.predict(X_test)\n",
    "trainPredict=np.expm1(trainPredict)\n",
    "trainY=np.expm1(y_train)\n",
    "testPredict=np.expm1(testPredict)\n",
    "testY=np.expm1(y_test)"
   ]
  },
  {
   "cell_type": "code",
   "execution_count": 129,
   "metadata": {
    "scrolled": true
   },
   "outputs": [
    {
     "data": {
      "text/plain": [
       "0.26623802532778046"
      ]
     },
     "execution_count": 129,
     "metadata": {},
     "output_type": "execute_result"
    }
   ],
   "source": [
    "trainScore=math.sqrt(mean_squared_error(trainY,trainPredict[:,0]))\n",
    "trainScore"
   ]
  },
  {
   "cell_type": "code",
   "execution_count": 130,
   "metadata": {
    "scrolled": true
   },
   "outputs": [
    {
     "data": {
      "text/plain": [
       "0.3169730411092208"
      ]
     },
     "execution_count": 130,
     "metadata": {},
     "output_type": "execute_result"
    }
   ],
   "source": [
    "testScore=math.sqrt(mean_squared_error(testY,testPredict[:,0]))\n",
    "testScore"
   ]
  },
  {
   "cell_type": "code",
   "execution_count": 131,
   "metadata": {},
   "outputs": [
    {
     "name": "stdout",
     "output_type": "stream",
     "text": [
      "Train Score: 0.26623802532778046\n",
      "Test Score: 0.3169730411092208\n"
     ]
    },
    {
     "data": {
      "image/png": "[encoded data removed]",
      "text/plain": [
       "<Figure size 432x288 with 1 Axes>"
      ]
     },
     "metadata": {
      "needs_background": "light"
     },
     "output_type": "display_data"
    }
   ],
   "source": [
    "predict_results(model,history)"
   ]
  },
  {
   "cell_type": "markdown",
   "metadata": {},
   "source": [
    "## Normalize the training data "
   ]
  },
  {
   "cell_type": "code",
   "execution_count": 79,
   "metadata": {
    "scrolled": true
   },
   "outputs": [],
   "source": [
    "data_feature_normalizer=preprocessing.Normalization()"
   ]
  },
  {
   "cell_type": "code",
   "execution_count": 80,
   "metadata": {
    "scrolled": true
   },
   "outputs": [],
   "source": [
    "data_feature_normalizer.adapt(np.array(X_train))"
   ]
  },
  {
   "cell_type": "code",
   "execution_count": 93,
   "metadata": {
    "scrolled": true
   },
   "outputs": [],
   "source": [
    "model2=Sequential()"
   ]
  },
  {
   "cell_type": "code",
   "execution_count": 94,
   "metadata": {
    "scrolled": true
   },
   "outputs": [],
   "source": [
    "model2.add(data_feature_normalizer)"
   ]
  },
  {
   "cell_type": "code",
   "execution_count": 95,
   "metadata": {
    "scrolled": true
   },
   "outputs": [],
   "source": [
    "model2.add(Dense(64))\n",
    "model2.add(Dense(1))"
   ]
  },
  {
   "cell_type": "code",
   "execution_count": 96,
   "metadata": {
    "scrolled": true
   },
   "outputs": [],
   "source": [
    "model2.compile(optimizer=tf.optimizers.Adam(learning_rate=0.1),loss=\"mean_absolute_error\")"
   ]
  },
  {
   "cell_type": "code",
   "execution_count": 97,
   "metadata": {
    "scrolled": true
   },
   "outputs": [
    {
     "name": "stdout",
     "output_type": "stream",
     "text": [
      "Epoch 1/200\n",
      "8/8 [==============================] - 0s 15ms/step - loss: 1.6544 - val_loss: 0.7218\n",
      "Epoch 2/200\n",
      "8/8 [==============================] - 0s 5ms/step - loss: 0.5615 - val_loss: 0.9046\n",
      "Epoch 3/200\n",
      "8/8 [==============================] - 0s 5ms/step - loss: 0.5897 - val_loss: 0.1963\n",
      "Epoch 4/200\n",
      "8/8 [==============================] - 0s 35ms/step - loss: 0.2249 - val_loss: 0.2306\n",
      "Epoch 5/200\n",
      "8/8 [==============================] - 0s 5ms/step - loss: 0.2115 - val_loss: 0.1698\n",
      "Epoch 6/200\n",
      "8/8 [==============================] - 0s 5ms/step - loss: 0.1659 - val_loss: 0.0804\n",
      "Epoch 7/200\n",
      "8/8 [==============================] - 0s 5ms/step - loss: 0.1065 - val_loss: 0.1436\n",
      "Epoch 8/200\n",
      "8/8 [==============================] - 0s 5ms/step - loss: 0.1196 - val_loss: 0.0813\n",
      "Epoch 9/200\n",
      "8/8 [==============================] - 0s 5ms/step - loss: 0.0860 - val_loss: 0.0752\n",
      "Epoch 10/200\n",
      "8/8 [==============================] - 0s 5ms/step - loss: 0.0750 - val_loss: 0.1175\n",
      "Epoch 11/200\n",
      "8/8 [==============================] - 0s 5ms/step - loss: 0.0999 - val_loss: 0.0626\n",
      "Epoch 12/200\n",
      "8/8 [==============================] - 0s 5ms/step - loss: 0.0807 - val_loss: 0.0706\n",
      "Epoch 13/200\n",
      "8/8 [==============================] - 0s 5ms/step - loss: 0.0666 - val_loss: 0.0839\n",
      "Epoch 14/200\n",
      "8/8 [==============================] - 0s 5ms/step - loss: 0.0790 - val_loss: 0.1072\n",
      "Epoch 15/200\n",
      "8/8 [==============================] - 0s 6ms/step - loss: 0.0924 - val_loss: 0.0607\n",
      "Epoch 16/200\n",
      "8/8 [==============================] - 0s 6ms/step - loss: 0.0791 - val_loss: 0.0768\n",
      "Epoch 17/200\n",
      "8/8 [==============================] - 0s 6ms/step - loss: 0.0744 - val_loss: 0.0507\n",
      "Epoch 18/200\n",
      "8/8 [==============================] - ETA: 0s - loss: 0.055 - 0s 5ms/step - loss: 0.0552 - val_loss: 0.0420\n",
      "Epoch 19/200\n",
      "8/8 [==============================] - 0s 5ms/step - loss: 0.0542 - val_loss: 0.0674\n",
      "Epoch 20/200\n",
      "8/8 [==============================] - 0s 5ms/step - loss: 0.0606 - val_loss: 0.0513\n",
      "Epoch 21/200\n",
      "8/8 [==============================] - 0s 5ms/step - loss: 0.0594 - val_loss: 0.0469\n",
      "Epoch 22/200\n",
      "8/8 [==============================] - 0s 5ms/step - loss: 0.0683 - val_loss: 0.0687\n",
      "Epoch 23/200\n",
      "8/8 [==============================] - 0s 5ms/step - loss: 0.0613 - val_loss: 0.0672\n",
      "Epoch 24/200\n",
      "8/8 [==============================] - 0s 5ms/step - loss: 0.0669 - val_loss: 0.0660\n",
      "Epoch 25/200\n",
      "8/8 [==============================] - 0s 5ms/step - loss: 0.0625 - val_loss: 0.0666\n",
      "Epoch 26/200\n",
      "8/8 [==============================] - 0s 5ms/step - loss: 0.0625 - val_loss: 0.0392\n",
      "Epoch 27/200\n",
      "8/8 [==============================] - 0s 5ms/step - loss: 0.0602 - val_loss: 0.0750\n",
      "Epoch 28/200\n",
      "8/8 [==============================] - 0s 5ms/step - loss: 0.0673 - val_loss: 0.0548\n",
      "Epoch 29/200\n",
      "8/8 [==============================] - 0s 5ms/step - loss: 0.0627 - val_loss: 0.0624\n",
      "Epoch 30/200\n",
      "8/8 [==============================] - 0s 5ms/step - loss: 0.0565 - val_loss: 0.0448\n",
      "Epoch 31/200\n",
      "8/8 [==============================] - 0s 5ms/step - loss: 0.0524 - val_loss: 0.0459\n",
      "Epoch 32/200\n",
      "8/8 [==============================] - 0s 5ms/step - loss: 0.0543 - val_loss: 0.0430\n",
      "Epoch 33/200\n",
      "8/8 [==============================] - 0s 5ms/step - loss: 0.0557 - val_loss: 0.0752\n",
      "Epoch 34/200\n",
      "8/8 [==============================] - 0s 6ms/step - loss: 0.0700 - val_loss: 0.0652\n",
      "Epoch 35/200\n",
      "8/8 [==============================] - 0s 5ms/step - loss: 0.0706 - val_loss: 0.0849\n",
      "Epoch 36/200\n",
      "8/8 [==============================] - 0s 5ms/step - loss: 0.0990 - val_loss: 0.0813\n",
      "Epoch 37/200\n",
      "8/8 [==============================] - 0s 5ms/step - loss: 0.0863 - val_loss: 0.0368\n",
      "Epoch 38/200\n",
      "8/8 [==============================] - 0s 5ms/step - loss: 0.0553 - val_loss: 0.0426\n",
      "Epoch 39/200\n",
      "8/8 [==============================] - 0s 5ms/step - loss: 0.0564 - val_loss: 0.0471\n",
      "Epoch 40/200\n",
      "8/8 [==============================] - 0s 6ms/step - loss: 0.0768 - val_loss: 0.1052\n",
      "Epoch 41/200\n",
      "8/8 [==============================] - 0s 5ms/step - loss: 0.0933 - val_loss: 0.0663\n",
      "Epoch 42/200\n",
      "8/8 [==============================] - 0s 5ms/step - loss: 0.0730 - val_loss: 0.0432\n",
      "Epoch 43/200\n",
      "8/8 [==============================] - 0s 5ms/step - loss: 0.0585 - val_loss: 0.0543\n",
      "Epoch 44/200\n",
      "8/8 [==============================] - 0s 5ms/step - loss: 0.0585 - val_loss: 0.0789\n",
      "Epoch 45/200\n",
      "8/8 [==============================] - 0s 5ms/step - loss: 0.0714 - val_loss: 0.0695\n",
      "Epoch 46/200\n",
      "8/8 [==============================] - 0s 5ms/step - loss: 0.0702 - val_loss: 0.0778\n",
      "Epoch 47/200\n",
      "8/8 [==============================] - ETA: 0s - loss: 0.082 - 0s 5ms/step - loss: 0.0716 - val_loss: 0.0497\n",
      "Epoch 48/200\n",
      "8/8 [==============================] - 0s 5ms/step - loss: 0.0550 - val_loss: 0.0768\n",
      "Epoch 49/200\n",
      "8/8 [==============================] - 0s 5ms/step - loss: 0.0659 - val_loss: 0.0552\n",
      "Epoch 50/200\n",
      "8/8 [==============================] - 0s 5ms/step - loss: 0.0682 - val_loss: 0.0615\n",
      "Epoch 51/200\n",
      "8/8 [==============================] - 0s 5ms/step - loss: 0.0766 - val_loss: 0.0608\n",
      "Epoch 52/200\n",
      "8/8 [==============================] - 0s 5ms/step - loss: 0.0867 - val_loss: 0.1344\n",
      "Epoch 53/200\n",
      "8/8 [==============================] - 0s 5ms/step - loss: 0.1165 - val_loss: 0.1737\n",
      "Epoch 54/200\n",
      "8/8 [==============================] - 0s 5ms/step - loss: 0.1714 - val_loss: 0.1657\n",
      "Epoch 55/200\n",
      "8/8 [==============================] - 0s 5ms/step - loss: 0.1662 - val_loss: 0.1351\n",
      "Epoch 56/200\n",
      "8/8 [==============================] - 0s 5ms/step - loss: 0.1286 - val_loss: 0.4690\n",
      "Epoch 57/200\n",
      "8/8 [==============================] - 0s 5ms/step - loss: 0.3104 - val_loss: 0.7932\n",
      "Epoch 58/200\n",
      "8/8 [==============================] - 0s 5ms/step - loss: 0.4699 - val_loss: 0.2677\n",
      "Epoch 59/200\n",
      "8/8 [==============================] - 0s 6ms/step - loss: 0.2486 - val_loss: 0.1918\n",
      "Epoch 60/200\n",
      "8/8 [==============================] - 0s 5ms/step - loss: 0.1498 - val_loss: 0.2629\n",
      "Epoch 61/200\n",
      "8/8 [==============================] - 0s 5ms/step - loss: 0.2304 - val_loss: 0.2512\n",
      "Epoch 62/200\n",
      "8/8 [==============================] - 0s 6ms/step - loss: 0.1898 - val_loss: 0.2864\n",
      "Epoch 63/200\n",
      "8/8 [==============================] - 0s 5ms/step - loss: 0.1949 - val_loss: 0.1128\n",
      "Epoch 64/200\n",
      "8/8 [==============================] - 0s 5ms/step - loss: 0.1332 - val_loss: 0.1337\n",
      "Epoch 65/200\n",
      "8/8 [==============================] - 0s 6ms/step - loss: 0.0899 - val_loss: 0.0827\n",
      "Epoch 66/200\n",
      "8/8 [==============================] - 0s 5ms/step - loss: 0.0907 - val_loss: 0.0628\n",
      "Epoch 67/200\n",
      "8/8 [==============================] - 0s 5ms/step - loss: 0.0771 - val_loss: 0.0969\n",
      "Epoch 68/200\n",
      "8/8 [==============================] - 0s 5ms/step - loss: 0.0888 - val_loss: 0.0912\n",
      "Epoch 69/200\n",
      "8/8 [==============================] - 0s 5ms/step - loss: 0.1082 - val_loss: 0.1346\n",
      "Epoch 70/200\n",
      "8/8 [==============================] - 0s 5ms/step - loss: 0.0996 - val_loss: 0.0940\n",
      "Epoch 71/200\n",
      "8/8 [==============================] - 0s 5ms/step - loss: 0.1006 - val_loss: 0.0779\n",
      "Epoch 72/200\n",
      "8/8 [==============================] - 0s 5ms/step - loss: 0.0903 - val_loss: 0.0608\n",
      "Epoch 73/200\n",
      "8/8 [==============================] - 0s 6ms/step - loss: 0.0990 - val_loss: 0.1110\n",
      "Epoch 74/200\n",
      "8/8 [==============================] - 0s 5ms/step - loss: 0.0955 - val_loss: 0.0924\n",
      "Epoch 75/200\n",
      "8/8 [==============================] - 0s 5ms/step - loss: 0.0900 - val_loss: 0.0812\n",
      "Epoch 76/200\n",
      "8/8 [==============================] - 0s 6ms/step - loss: 0.1003 - val_loss: 0.1192\n",
      "Epoch 77/200\n",
      "8/8 [==============================] - 0s 6ms/step - loss: 0.0950 - val_loss: 0.0972\n",
      "Epoch 78/200\n",
      "8/8 [==============================] - 0s 5ms/step - loss: 0.0797 - val_loss: 0.0510\n",
      "Epoch 79/200\n",
      "8/8 [==============================] - 0s 5ms/step - loss: 0.0635 - val_loss: 0.0649\n",
      "Epoch 80/200\n",
      "8/8 [==============================] - 0s 33ms/step - loss: 0.0706 - val_loss: 0.0751\n",
      "Epoch 81/200\n",
      "8/8 [==============================] - 0s 6ms/step - loss: 0.0590 - val_loss: 0.0661\n",
      "Epoch 82/200\n",
      "8/8 [==============================] - 0s 5ms/step - loss: 0.0743 - val_loss: 0.0615\n",
      "Epoch 83/200\n",
      "8/8 [==============================] - 0s 5ms/step - loss: 0.0667 - val_loss: 0.0806\n",
      "Epoch 84/200\n"
     ]
    },
    {
     "name": "stdout",
     "output_type": "stream",
     "text": [
      "8/8 [==============================] - 0s 5ms/step - loss: 0.0748 - val_loss: 0.0498\n",
      "Epoch 85/200\n",
      "8/8 [==============================] - 0s 6ms/step - loss: 0.0669 - val_loss: 0.0522\n",
      "Epoch 86/200\n",
      "8/8 [==============================] - 0s 5ms/step - loss: 0.0617 - val_loss: 0.0661\n",
      "Epoch 87/200\n",
      "8/8 [==============================] - 0s 5ms/step - loss: 0.0684 - val_loss: 0.0678\n",
      "Epoch 88/200\n",
      "8/8 [==============================] - 0s 5ms/step - loss: 0.0705 - val_loss: 0.0683\n",
      "Epoch 89/200\n",
      "8/8 [==============================] - ETA: 0s - loss: 0.057 - 0s 5ms/step - loss: 0.0570 - val_loss: 0.0650\n",
      "Epoch 90/200\n",
      "8/8 [==============================] - 0s 5ms/step - loss: 0.0612 - val_loss: 0.0487\n",
      "Epoch 91/200\n",
      "8/8 [==============================] - 0s 5ms/step - loss: 0.0522 - val_loss: 0.0495\n",
      "Epoch 92/200\n",
      "8/8 [==============================] - 0s 5ms/step - loss: 0.0621 - val_loss: 0.1071\n",
      "Epoch 93/200\n",
      "8/8 [==============================] - 0s 6ms/step - loss: 0.0712 - val_loss: 0.0407\n",
      "Epoch 94/200\n",
      "8/8 [==============================] - 0s 6ms/step - loss: 0.0637 - val_loss: 0.1262\n",
      "Epoch 95/200\n",
      "8/8 [==============================] - 0s 5ms/step - loss: 0.1042 - val_loss: 0.0882\n",
      "Epoch 96/200\n",
      "8/8 [==============================] - 0s 5ms/step - loss: 0.0845 - val_loss: 0.1131\n",
      "Epoch 97/200\n",
      "8/8 [==============================] - 0s 5ms/step - loss: 0.0794 - val_loss: 0.0785\n",
      "Epoch 98/200\n",
      "8/8 [==============================] - 0s 5ms/step - loss: 0.0646 - val_loss: 0.0440\n",
      "Epoch 99/200\n",
      "8/8 [==============================] - 0s 6ms/step - loss: 0.0595 - val_loss: 0.0715\n",
      "Epoch 100/200\n",
      "8/8 [==============================] - 0s 5ms/step - loss: 0.0687 - val_loss: 0.0553\n",
      "Epoch 101/200\n",
      "8/8 [==============================] - 0s 5ms/step - loss: 0.0810 - val_loss: 0.0451\n",
      "Epoch 102/200\n",
      "8/8 [==============================] - 0s 5ms/step - loss: 0.0679 - val_loss: 0.1559\n",
      "Epoch 103/200\n",
      "8/8 [==============================] - 0s 5ms/step - loss: 0.1064 - val_loss: 0.0526\n",
      "Epoch 104/200\n",
      "8/8 [==============================] - 0s 5ms/step - loss: 0.1190 - val_loss: 0.0549\n",
      "Epoch 105/200\n",
      "8/8 [==============================] - 0s 5ms/step - loss: 0.1078 - val_loss: 0.0767\n",
      "Epoch 106/200\n",
      "8/8 [==============================] - 0s 5ms/step - loss: 0.1120 - val_loss: 0.1463\n",
      "Epoch 107/200\n",
      "8/8 [==============================] - 0s 5ms/step - loss: 0.1250 - val_loss: 0.1549\n",
      "Epoch 108/200\n",
      "8/8 [==============================] - 0s 5ms/step - loss: 0.1425 - val_loss: 0.0946\n",
      "Epoch 109/200\n",
      "8/8 [==============================] - 0s 5ms/step - loss: 0.1057 - val_loss: 0.1157\n",
      "Epoch 110/200\n",
      "8/8 [==============================] - 0s 5ms/step - loss: 0.0892 - val_loss: 0.1440\n",
      "Epoch 111/200\n",
      "8/8 [==============================] - 0s 5ms/step - loss: 0.0904 - val_loss: 0.1117\n",
      "Epoch 112/200\n",
      "8/8 [==============================] - 0s 5ms/step - loss: 0.0813 - val_loss: 0.0725\n",
      "Epoch 113/200\n",
      "8/8 [==============================] - 0s 6ms/step - loss: 0.0731 - val_loss: 0.0765\n",
      "Epoch 114/200\n",
      "8/8 [==============================] - 0s 5ms/step - loss: 0.0680 - val_loss: 0.1047\n",
      "Epoch 115/200\n",
      "8/8 [==============================] - 0s 5ms/step - loss: 0.1015 - val_loss: 0.0847\n",
      "Epoch 116/200\n",
      "8/8 [==============================] - 0s 6ms/step - loss: 0.0973 - val_loss: 0.0904\n",
      "Epoch 117/200\n",
      "8/8 [==============================] - 0s 5ms/step - loss: 0.1040 - val_loss: 0.0833\n",
      "Epoch 118/200\n",
      "8/8 [==============================] - 0s 5ms/step - loss: 0.0968 - val_loss: 0.1315\n",
      "Epoch 119/200\n",
      "8/8 [==============================] - 0s 5ms/step - loss: 0.1077 - val_loss: 0.2538\n",
      "Epoch 120/200\n",
      "8/8 [==============================] - 0s 5ms/step - loss: 0.2227 - val_loss: 0.3995\n",
      "Epoch 121/200\n",
      "8/8 [==============================] - 0s 5ms/step - loss: 0.3478 - val_loss: 0.1882\n",
      "Epoch 122/200\n",
      "8/8 [==============================] - 0s 6ms/step - loss: 0.2431 - val_loss: 0.1501\n",
      "Epoch 123/200\n",
      "8/8 [==============================] - 0s 5ms/step - loss: 0.1767 - val_loss: 0.3244\n",
      "Epoch 124/200\n",
      "8/8 [==============================] - 0s 6ms/step - loss: 0.2287 - val_loss: 0.3661\n",
      "Epoch 125/200\n",
      "8/8 [==============================] - 0s 5ms/step - loss: 0.1873 - val_loss: 0.2204\n",
      "Epoch 126/200\n",
      "8/8 [==============================] - 0s 6ms/step - loss: 0.1779 - val_loss: 0.1259\n",
      "Epoch 127/200\n",
      "8/8 [==============================] - 0s 6ms/step - loss: 0.1242 - val_loss: 0.1040\n",
      "Epoch 128/200\n",
      "8/8 [==============================] - 0s 6ms/step - loss: 0.1525 - val_loss: 0.0972\n",
      "Epoch 129/200\n",
      "8/8 [==============================] - 0s 6ms/step - loss: 0.1126 - val_loss: 0.1700\n",
      "Epoch 130/200\n",
      "8/8 [==============================] - 0s 5ms/step - loss: 0.1486 - val_loss: 0.1657\n",
      "Epoch 131/200\n",
      "8/8 [==============================] - 0s 5ms/step - loss: 0.1971 - val_loss: 0.2124\n",
      "Epoch 132/200\n",
      "8/8 [==============================] - 0s 5ms/step - loss: 0.2439 - val_loss: 0.3282\n",
      "Epoch 133/200\n",
      "8/8 [==============================] - 0s 5ms/step - loss: 0.2189 - val_loss: 0.1947\n",
      "Epoch 134/200\n",
      "8/8 [==============================] - 0s 6ms/step - loss: 0.1743 - val_loss: 0.1702\n",
      "Epoch 135/200\n",
      "8/8 [==============================] - 0s 5ms/step - loss: 0.1833 - val_loss: 0.1839\n",
      "Epoch 136/200\n",
      "8/8 [==============================] - 0s 6ms/step - loss: 0.1750 - val_loss: 0.1051\n",
      "Epoch 137/200\n",
      "8/8 [==============================] - 0s 5ms/step - loss: 0.1756 - val_loss: 0.2668\n",
      "Epoch 138/200\n",
      "8/8 [==============================] - 0s 5ms/step - loss: 0.2196 - val_loss: 0.1609\n",
      "Epoch 139/200\n",
      "8/8 [==============================] - 0s 5ms/step - loss: 0.1665 - val_loss: 0.1667\n",
      "Epoch 140/200\n",
      "8/8 [==============================] - 0s 5ms/step - loss: 0.1667 - val_loss: 0.1830\n",
      "Epoch 141/200\n",
      "8/8 [==============================] - 0s 5ms/step - loss: 0.2697 - val_loss: 0.1018\n",
      "Epoch 142/200\n",
      "8/8 [==============================] - 0s 5ms/step - loss: 0.2072 - val_loss: 0.3903\n",
      "Epoch 143/200\n",
      "8/8 [==============================] - 0s 5ms/step - loss: 0.2593 - val_loss: 0.0819\n",
      "Epoch 144/200\n",
      "8/8 [==============================] - 0s 5ms/step - loss: 0.1257 - val_loss: 0.1317\n",
      "Epoch 145/200\n",
      "8/8 [==============================] - 0s 5ms/step - loss: 0.2124 - val_loss: 0.2726\n",
      "Epoch 146/200\n",
      "8/8 [==============================] - 0s 5ms/step - loss: 0.2403 - val_loss: 0.1615\n",
      "Epoch 147/200\n",
      "8/8 [==============================] - 0s 5ms/step - loss: 0.1581 - val_loss: 0.0768\n",
      "Epoch 148/200\n",
      "8/8 [==============================] - 0s 5ms/step - loss: 0.0865 - val_loss: 0.0435\n",
      "Epoch 149/200\n",
      "8/8 [==============================] - 0s 5ms/step - loss: 0.0720 - val_loss: 0.0544\n",
      "Epoch 150/200\n",
      "8/8 [==============================] - 0s 5ms/step - loss: 0.0851 - val_loss: 0.0447\n",
      "Epoch 151/200\n",
      "8/8 [==============================] - 0s 5ms/step - loss: 0.0750 - val_loss: 0.0466\n",
      "Epoch 152/200\n",
      "8/8 [==============================] - 0s 5ms/step - loss: 0.0635 - val_loss: 0.0960\n",
      "Epoch 153/200\n",
      "8/8 [==============================] - 0s 6ms/step - loss: 0.0935 - val_loss: 0.1308\n",
      "Epoch 154/200\n",
      "8/8 [==============================] - 0s 5ms/step - loss: 0.1232 - val_loss: 0.0685\n",
      "Epoch 155/200\n",
      "8/8 [==============================] - 0s 6ms/step - loss: 0.0800 - val_loss: 0.0692\n",
      "Epoch 156/200\n",
      "8/8 [==============================] - 0s 5ms/step - loss: 0.0848 - val_loss: 0.1416\n",
      "Epoch 157/200\n",
      "8/8 [==============================] - 0s 32ms/step - loss: 0.0929 - val_loss: 0.1431\n",
      "Epoch 158/200\n",
      "8/8 [==============================] - 0s 5ms/step - loss: 0.1421 - val_loss: 0.0652\n",
      "Epoch 159/200\n",
      "8/8 [==============================] - 0s 5ms/step - loss: 0.0901 - val_loss: 0.0621\n",
      "Epoch 160/200\n",
      "8/8 [==============================] - 0s 5ms/step - loss: 0.0879 - val_loss: 0.0922\n",
      "Epoch 161/200\n",
      "8/8 [==============================] - 0s 6ms/step - loss: 0.1121 - val_loss: 0.1938\n",
      "Epoch 162/200\n",
      "8/8 [==============================] - 0s 5ms/step - loss: 0.1506 - val_loss: 0.1265\n",
      "Epoch 163/200\n",
      "8/8 [==============================] - 0s 6ms/step - loss: 0.1438 - val_loss: 0.1025\n",
      "Epoch 164/200\n",
      "8/8 [==============================] - 0s 6ms/step - loss: 0.1052 - val_loss: 0.1266\n",
      "Epoch 165/200\n",
      "8/8 [==============================] - 0s 5ms/step - loss: 0.1396 - val_loss: 0.2744\n",
      "Epoch 166/200\n",
      "8/8 [==============================] - 0s 5ms/step - loss: 0.1905 - val_loss: 0.1377\n"
     ]
    },
    {
     "name": "stdout",
     "output_type": "stream",
     "text": [
      "Epoch 167/200\n",
      "8/8 [==============================] - 0s 5ms/step - loss: 0.1329 - val_loss: 0.0951\n",
      "Epoch 168/200\n",
      "8/8 [==============================] - 0s 5ms/step - loss: 0.1088 - val_loss: 0.0558\n",
      "Epoch 169/200\n",
      "8/8 [==============================] - 0s 5ms/step - loss: 0.0691 - val_loss: 0.0882\n",
      "Epoch 170/200\n",
      "8/8 [==============================] - 0s 5ms/step - loss: 0.1003 - val_loss: 0.0672\n",
      "Epoch 171/200\n",
      "8/8 [==============================] - 0s 5ms/step - loss: 0.1000 - val_loss: 0.0983\n",
      "Epoch 172/200\n",
      "8/8 [==============================] - 0s 5ms/step - loss: 0.1220 - val_loss: 0.0572\n",
      "Epoch 173/200\n",
      "8/8 [==============================] - 0s 5ms/step - loss: 0.0727 - val_loss: 0.0827\n",
      "Epoch 174/200\n",
      "8/8 [==============================] - 0s 5ms/step - loss: 0.0761 - val_loss: 0.0877\n",
      "Epoch 175/200\n",
      "8/8 [==============================] - 0s 5ms/step - loss: 0.0871 - val_loss: 0.0567\n",
      "Epoch 176/200\n",
      "8/8 [==============================] - 0s 5ms/step - loss: 0.0930 - val_loss: 0.0972\n",
      "Epoch 177/200\n",
      "8/8 [==============================] - 0s 5ms/step - loss: 0.1114 - val_loss: 0.0830\n",
      "Epoch 178/200\n",
      "8/8 [==============================] - 0s 5ms/step - loss: 0.1287 - val_loss: 0.1331\n",
      "Epoch 179/200\n",
      "8/8 [==============================] - 0s 5ms/step - loss: 0.1300 - val_loss: 0.0717\n",
      "Epoch 180/200\n",
      "8/8 [==============================] - 0s 5ms/step - loss: 0.1185 - val_loss: 0.2181\n",
      "Epoch 181/200\n",
      "8/8 [==============================] - 0s 5ms/step - loss: 0.1763 - val_loss: 0.1583\n",
      "Epoch 182/200\n",
      "8/8 [==============================] - 0s 6ms/step - loss: 0.1444 - val_loss: 0.1160\n",
      "Epoch 183/200\n",
      "8/8 [==============================] - 0s 5ms/step - loss: 0.2080 - val_loss: 0.1106\n",
      "Epoch 184/200\n",
      "8/8 [==============================] - 0s 5ms/step - loss: 0.2126 - val_loss: 0.2505\n",
      "Epoch 185/200\n",
      "8/8 [==============================] - 0s 5ms/step - loss: 0.2991 - val_loss: 0.0836\n",
      "Epoch 186/200\n",
      "8/8 [==============================] - 0s 5ms/step - loss: 0.1789 - val_loss: 0.1267\n",
      "Epoch 187/200\n",
      "8/8 [==============================] - 0s 5ms/step - loss: 0.1452 - val_loss: 0.0973\n",
      "Epoch 188/200\n",
      "8/8 [==============================] - 0s 5ms/step - loss: 0.0931 - val_loss: 0.1276\n",
      "Epoch 189/200\n",
      "8/8 [==============================] - 0s 5ms/step - loss: 0.1619 - val_loss: 0.0666\n",
      "Epoch 190/200\n",
      "8/8 [==============================] - 0s 5ms/step - loss: 0.1128 - val_loss: 0.1889\n",
      "Epoch 191/200\n",
      "8/8 [==============================] - 0s 5ms/step - loss: 0.1343 - val_loss: 0.1200\n",
      "Epoch 192/200\n",
      "8/8 [==============================] - 0s 5ms/step - loss: 0.1353 - val_loss: 0.0517\n",
      "Epoch 193/200\n",
      "8/8 [==============================] - 0s 5ms/step - loss: 0.0745 - val_loss: 0.1142\n",
      "Epoch 194/200\n",
      "8/8 [==============================] - 0s 5ms/step - loss: 0.1034 - val_loss: 0.0758\n",
      "Epoch 195/200\n",
      "8/8 [==============================] - 0s 5ms/step - loss: 0.0805 - val_loss: 0.0447\n",
      "Epoch 196/200\n",
      "8/8 [==============================] - 0s 5ms/step - loss: 0.0626 - val_loss: 0.0416\n",
      "Epoch 197/200\n",
      "8/8 [==============================] - 0s 5ms/step - loss: 0.0539 - val_loss: 0.0754\n",
      "Epoch 198/200\n",
      "8/8 [==============================] - 0s 5ms/step - loss: 0.0700 - val_loss: 0.0608\n",
      "Epoch 199/200\n",
      "8/8 [==============================] - 0s 5ms/step - loss: 0.0628 - val_loss: 0.0688\n",
      "Epoch 200/200\n",
      "8/8 [==============================] - 0s 5ms/step - loss: 0.0699 - val_loss: 0.0587\n"
     ]
    }
   ],
   "source": [
    "history=model2.fit(X_train,y_train,epochs=200,validation_split=0.2)"
   ]
  },
  {
   "cell_type": "code",
   "execution_count": 99,
   "metadata": {
    "scrolled": true
   },
   "outputs": [],
   "source": [
    "test_results={}\n",
    "test_results['linear_model'] = model2.evaluate(\n",
    "   X_test, y_test, verbose=0)"
   ]
  },
  {
   "cell_type": "code",
   "execution_count": 100,
   "metadata": {
    "scrolled": true
   },
   "outputs": [
    {
     "data": {
      "text/plain": [
       "{'linear_model': 0.07541419565677643}"
      ]
     },
     "execution_count": 100,
     "metadata": {},
     "output_type": "execute_result"
    }
   ],
   "source": [
    "test_results"
   ]
  },
  {
   "cell_type": "code",
   "execution_count": 114,
   "metadata": {},
   "outputs": [
    {
     "name": "stdout",
     "output_type": "stream",
     "text": [
      "Train Score: 0.17018209866106973\n",
      "Test Score: 0.20090288427641706\n"
     ]
    },
    {
     "data": {
      "image/png": "[encoded data removed]",
      "text/plain": [
       "<Figure size 432x288 with 1 Axes>"
      ]
     },
     "metadata": {
      "needs_background": "light"
     },
     "output_type": "display_data"
    }
   ],
   "source": [
    "predict_results(model2,history)"
   ]
  },
  {
   "cell_type": "code",
   "execution_count": null,
   "metadata": {
    "scrolled": true
   },
   "outputs": [],
   "source": []
  },
  {
   "cell_type": "markdown",
   "metadata": {},
   "source": [
    "## Using DNN regression "
   ]
  },
  {
   "cell_type": "code",
   "execution_count": 132,
   "metadata": {
    "scrolled": true
   },
   "outputs": [],
   "source": [
    "def build_and_compile_model(norm):\n",
    "  model = tf.keras.Sequential([\n",
    "      norm,\n",
    "      layers.Dense(64, activation='relu'),\n",
    "      layers.Dense(64, activation='relu'),\n",
    "      layers.Dense(1)\n",
    "  ])\n",
    "\n",
    "  model.compile(loss='mean_absolute_error',\n",
    "                optimizer=tf.keras.optimizers.Adam(0.001))\n",
    "  return model"
   ]
  },
  {
   "cell_type": "code",
   "execution_count": 133,
   "metadata": {
    "scrolled": true
   },
   "outputs": [
    {
     "name": "stdout",
     "output_type": "stream",
     "text": [
      "Model: \"sequential_7\"\n",
      "_________________________________________________________________\n",
      "Layer (type)                 Output Shape              Param #   \n",
      "=================================================================\n",
      "normalization (Normalization (None, 8)                 17        \n",
      "_________________________________________________________________\n",
      "dense_12 (Dense)             (None, 64)                576       \n",
      "_________________________________________________________________\n",
      "dense_13 (Dense)             (None, 64)                4160      \n",
      "_________________________________________________________________\n",
      "dense_14 (Dense)             (None, 1)                 65        \n",
      "=================================================================\n",
      "Total params: 4,818\n",
      "Trainable params: 4,801\n",
      "Non-trainable params: 17\n",
      "_________________________________________________________________\n"
     ]
    }
   ],
   "source": [
    "dnn_model = build_and_compile_model(data_feature_normalizer)\n",
    "dnn_model.summary()"
   ]
  },
  {
   "cell_type": "code",
   "execution_count": 134,
   "metadata": {
    "scrolled": true
   },
   "outputs": [
    {
     "name": "stdout",
     "output_type": "stream",
     "text": [
      "Epoch 1/100\n",
      "8/8 [==============================] - 0s 16ms/step - loss: 0.3691 - val_loss: 0.1754\n",
      "Epoch 2/100\n",
      "8/8 [==============================] - 0s 5ms/step - loss: 0.2221 - val_loss: 0.1767\n",
      "Epoch 3/100\n",
      "8/8 [==============================] - 0s 5ms/step - loss: 0.1735 - val_loss: 0.1309\n",
      "Epoch 4/100\n",
      "8/8 [==============================] - 0s 5ms/step - loss: 0.1346 - val_loss: 0.1411\n",
      "Epoch 5/100\n",
      "8/8 [==============================] - 0s 5ms/step - loss: 0.1095 - val_loss: 0.0953\n",
      "Epoch 6/100\n",
      "8/8 [==============================] - 0s 5ms/step - loss: 0.0954 - val_loss: 0.0828\n",
      "Epoch 7/100\n",
      "8/8 [==============================] - 0s 6ms/step - loss: 0.0784 - val_loss: 0.0792\n",
      "Epoch 8/100\n",
      "8/8 [==============================] - 0s 5ms/step - loss: 0.0755 - val_loss: 0.0663\n",
      "Epoch 9/100\n",
      "8/8 [==============================] - 0s 5ms/step - loss: 0.0638 - val_loss: 0.0607\n",
      "Epoch 10/100\n",
      "8/8 [==============================] - 0s 34ms/step - loss: 0.0559 - val_loss: 0.0632\n",
      "Epoch 11/100\n",
      "8/8 [==============================] - 0s 6ms/step - loss: 0.0507 - val_loss: 0.0565\n",
      "Epoch 12/100\n",
      "8/8 [==============================] - 0s 5ms/step - loss: 0.0547 - val_loss: 0.0596\n",
      "Epoch 13/100\n",
      "8/8 [==============================] - 0s 5ms/step - loss: 0.0458 - val_loss: 0.0543\n",
      "Epoch 14/100\n",
      "8/8 [==============================] - 0s 5ms/step - loss: 0.0486 - val_loss: 0.0577\n",
      "Epoch 15/100\n",
      "8/8 [==============================] - 0s 6ms/step - loss: 0.0414 - val_loss: 0.0519\n",
      "Epoch 16/100\n",
      "8/8 [==============================] - 0s 6ms/step - loss: 0.0396 - val_loss: 0.0531\n",
      "Epoch 17/100\n",
      "8/8 [==============================] - 0s 6ms/step - loss: 0.0423 - val_loss: 0.0519\n",
      "Epoch 18/100\n",
      "8/8 [==============================] - 0s 5ms/step - loss: 0.0341 - val_loss: 0.0448\n",
      "Epoch 19/100\n",
      "8/8 [==============================] - 0s 5ms/step - loss: 0.0389 - val_loss: 0.0462\n",
      "Epoch 20/100\n",
      "8/8 [==============================] - 0s 5ms/step - loss: 0.0397 - val_loss: 0.0484\n",
      "Epoch 21/100\n",
      "8/8 [==============================] - 0s 5ms/step - loss: 0.0363 - val_loss: 0.0479\n",
      "Epoch 22/100\n",
      "8/8 [==============================] - 0s 5ms/step - loss: 0.0328 - val_loss: 0.0452\n",
      "Epoch 23/100\n",
      "8/8 [==============================] - 0s 5ms/step - loss: 0.0369 - val_loss: 0.0458\n",
      "Epoch 24/100\n",
      "8/8 [==============================] - 0s 5ms/step - loss: 0.0431 - val_loss: 0.0664\n",
      "Epoch 25/100\n",
      "8/8 [==============================] - 0s 5ms/step - loss: 0.0410 - val_loss: 0.0475\n",
      "Epoch 26/100\n",
      "8/8 [==============================] - 0s 5ms/step - loss: 0.0361 - val_loss: 0.0498\n",
      "Epoch 27/100\n",
      "8/8 [==============================] - 0s 5ms/step - loss: 0.0364 - val_loss: 0.0523\n",
      "Epoch 28/100\n",
      "8/8 [==============================] - 0s 5ms/step - loss: 0.0473 - val_loss: 0.0508\n",
      "Epoch 29/100\n",
      "8/8 [==============================] - 0s 5ms/step - loss: 0.0278 - val_loss: 0.0548\n",
      "Epoch 30/100\n",
      "8/8 [==============================] - 0s 5ms/step - loss: 0.0312 - val_loss: 0.0465\n",
      "Epoch 31/100\n",
      "8/8 [==============================] - 0s 5ms/step - loss: 0.0306 - val_loss: 0.0515\n",
      "Epoch 32/100\n",
      "8/8 [==============================] - 0s 5ms/step - loss: 0.0312 - val_loss: 0.0530\n",
      "Epoch 33/100\n",
      "8/8 [==============================] - 0s 5ms/step - loss: 0.0281 - val_loss: 0.0546\n",
      "Epoch 34/100\n",
      "8/8 [==============================] - 0s 5ms/step - loss: 0.0264 - val_loss: 0.0543\n",
      "Epoch 35/100\n",
      "8/8 [==============================] - 0s 5ms/step - loss: 0.0324 - val_loss: 0.0481\n",
      "Epoch 36/100\n",
      "8/8 [==============================] - 0s 5ms/step - loss: 0.0266 - val_loss: 0.0483\n",
      "Epoch 37/100\n",
      "8/8 [==============================] - 0s 5ms/step - loss: 0.0298 - val_loss: 0.0482\n",
      "Epoch 38/100\n",
      "8/8 [==============================] - 0s 5ms/step - loss: 0.0250 - val_loss: 0.0465\n",
      "Epoch 39/100\n",
      "8/8 [==============================] - 0s 5ms/step - loss: 0.0244 - val_loss: 0.0484\n",
      "Epoch 40/100\n",
      "8/8 [==============================] - 0s 5ms/step - loss: 0.0260 - val_loss: 0.0491\n",
      "Epoch 41/100\n",
      "8/8 [==============================] - 0s 5ms/step - loss: 0.0243 - val_loss: 0.0479\n",
      "Epoch 42/100\n",
      "8/8 [==============================] - 0s 5ms/step - loss: 0.0276 - val_loss: 0.0532\n",
      "Epoch 43/100\n",
      "8/8 [==============================] - 0s 5ms/step - loss: 0.0313 - val_loss: 0.0473\n",
      "Epoch 44/100\n",
      "8/8 [==============================] - 0s 5ms/step - loss: 0.0277 - val_loss: 0.0436\n",
      "Epoch 45/100\n",
      "8/8 [==============================] - 0s 5ms/step - loss: 0.0238 - val_loss: 0.0479\n",
      "Epoch 46/100\n",
      "8/8 [==============================] - 0s 5ms/step - loss: 0.0268 - val_loss: 0.0504\n",
      "Epoch 47/100\n",
      "8/8 [==============================] - 0s 5ms/step - loss: 0.0244 - val_loss: 0.0448\n",
      "Epoch 48/100\n",
      "8/8 [==============================] - 0s 5ms/step - loss: 0.0245 - val_loss: 0.0469\n",
      "Epoch 49/100\n",
      "8/8 [==============================] - 0s 5ms/step - loss: 0.0221 - val_loss: 0.0490\n",
      "Epoch 50/100\n",
      "8/8 [==============================] - ETA: 0s - loss: 0.021 - 0s 5ms/step - loss: 0.0210 - val_loss: 0.0445\n",
      "Epoch 51/100\n",
      "8/8 [==============================] - 0s 5ms/step - loss: 0.0210 - val_loss: 0.0511\n",
      "Epoch 52/100\n",
      "8/8 [==============================] - 0s 5ms/step - loss: 0.0250 - val_loss: 0.0444\n",
      "Epoch 53/100\n",
      "8/8 [==============================] - 0s 5ms/step - loss: 0.0248 - val_loss: 0.0458\n",
      "Epoch 54/100\n",
      "8/8 [==============================] - 0s 6ms/step - loss: 0.0207 - val_loss: 0.0464\n",
      "Epoch 55/100\n",
      "8/8 [==============================] - 0s 6ms/step - loss: 0.0198 - val_loss: 0.0483\n",
      "Epoch 56/100\n",
      "8/8 [==============================] - 0s 5ms/step - loss: 0.0184 - val_loss: 0.0442\n",
      "Epoch 57/100\n",
      "8/8 [==============================] - 0s 5ms/step - loss: 0.0238 - val_loss: 0.0478\n",
      "Epoch 58/100\n",
      "8/8 [==============================] - 0s 5ms/step - loss: 0.0225 - val_loss: 0.0477\n",
      "Epoch 59/100\n",
      "8/8 [==============================] - 0s 5ms/step - loss: 0.0232 - val_loss: 0.0499\n",
      "Epoch 60/100\n",
      "8/8 [==============================] - 0s 5ms/step - loss: 0.0206 - val_loss: 0.0527\n",
      "Epoch 61/100\n",
      "8/8 [==============================] - 0s 5ms/step - loss: 0.0190 - val_loss: 0.0473\n",
      "Epoch 62/100\n",
      "8/8 [==============================] - 0s 5ms/step - loss: 0.0196 - val_loss: 0.0444\n",
      "Epoch 63/100\n",
      "8/8 [==============================] - 0s 5ms/step - loss: 0.0194 - val_loss: 0.0511\n",
      "Epoch 64/100\n",
      "8/8 [==============================] - 0s 6ms/step - loss: 0.0261 - val_loss: 0.0608\n",
      "Epoch 65/100\n",
      "8/8 [==============================] - 0s 6ms/step - loss: 0.0311 - val_loss: 0.0509\n",
      "Epoch 66/100\n",
      "8/8 [==============================] - 0s 5ms/step - loss: 0.0264 - val_loss: 0.0475\n",
      "Epoch 67/100\n",
      "8/8 [==============================] - 0s 6ms/step - loss: 0.0228 - val_loss: 0.0452\n",
      "Epoch 68/100\n",
      "8/8 [==============================] - 0s 6ms/step - loss: 0.0236 - val_loss: 0.0507\n",
      "Epoch 69/100\n",
      "8/8 [==============================] - 0s 6ms/step - loss: 0.0248 - val_loss: 0.0501\n",
      "Epoch 70/100\n",
      "8/8 [==============================] - 0s 6ms/step - loss: 0.0213 - val_loss: 0.0462\n",
      "Epoch 71/100\n",
      "8/8 [==============================] - 0s 5ms/step - loss: 0.0232 - val_loss: 0.0486\n",
      "Epoch 72/100\n",
      "8/8 [==============================] - 0s 5ms/step - loss: 0.0221 - val_loss: 0.0500\n",
      "Epoch 73/100\n",
      "8/8 [==============================] - 0s 5ms/step - loss: 0.0203 - val_loss: 0.0519\n",
      "Epoch 74/100\n",
      "8/8 [==============================] - 0s 5ms/step - loss: 0.0176 - val_loss: 0.0486\n",
      "Epoch 75/100\n",
      "8/8 [==============================] - 0s 5ms/step - loss: 0.0186 - val_loss: 0.0474\n",
      "Epoch 76/100\n",
      "8/8 [==============================] - 0s 5ms/step - loss: 0.0198 - val_loss: 0.0534\n",
      "Epoch 77/100\n",
      "8/8 [==============================] - 0s 5ms/step - loss: 0.0231 - val_loss: 0.0494\n",
      "Epoch 78/100\n",
      "8/8 [==============================] - 0s 5ms/step - loss: 0.0164 - val_loss: 0.0513\n",
      "Epoch 79/100\n",
      "8/8 [==============================] - 0s 5ms/step - loss: 0.0149 - val_loss: 0.0526\n",
      "Epoch 80/100\n",
      "8/8 [==============================] - 0s 5ms/step - loss: 0.0185 - val_loss: 0.0498\n",
      "Epoch 81/100\n",
      "8/8 [==============================] - 0s 5ms/step - loss: 0.0157 - val_loss: 0.0491\n",
      "Epoch 82/100\n",
      "8/8 [==============================] - 0s 5ms/step - loss: 0.0179 - val_loss: 0.0530\n",
      "Epoch 83/100\n",
      "8/8 [==============================] - 0s 5ms/step - loss: 0.0208 - val_loss: 0.0527\n",
      "Epoch 84/100\n"
     ]
    },
    {
     "name": "stdout",
     "output_type": "stream",
     "text": [
      "8/8 [==============================] - 0s 5ms/step - loss: 0.0229 - val_loss: 0.0510\n",
      "Epoch 85/100\n",
      "8/8 [==============================] - 0s 5ms/step - loss: 0.0184 - val_loss: 0.0530\n",
      "Epoch 86/100\n",
      "8/8 [==============================] - 0s 5ms/step - loss: 0.0187 - val_loss: 0.0545\n",
      "Epoch 87/100\n",
      "8/8 [==============================] - 0s 5ms/step - loss: 0.0202 - val_loss: 0.0492\n",
      "Epoch 88/100\n",
      "8/8 [==============================] - 0s 5ms/step - loss: 0.0199 - val_loss: 0.0503\n",
      "Epoch 89/100\n",
      "8/8 [==============================] - 0s 5ms/step - loss: 0.0187 - val_loss: 0.0510\n",
      "Epoch 90/100\n",
      "8/8 [==============================] - 0s 5ms/step - loss: 0.0156 - val_loss: 0.0518\n",
      "Epoch 91/100\n",
      "8/8 [==============================] - 0s 5ms/step - loss: 0.0173 - val_loss: 0.0487\n",
      "Epoch 92/100\n",
      "8/8 [==============================] - 0s 5ms/step - loss: 0.0169 - val_loss: 0.0519\n",
      "Epoch 93/100\n",
      "8/8 [==============================] - 0s 5ms/step - loss: 0.0166 - val_loss: 0.0509\n",
      "Epoch 94/100\n",
      "8/8 [==============================] - 0s 5ms/step - loss: 0.0159 - val_loss: 0.0492\n",
      "Epoch 95/100\n",
      "8/8 [==============================] - 0s 5ms/step - loss: 0.0181 - val_loss: 0.0466\n",
      "Epoch 96/100\n",
      "8/8 [==============================] - 0s 5ms/step - loss: 0.0201 - val_loss: 0.0497\n",
      "Epoch 97/100\n",
      "8/8 [==============================] - 0s 5ms/step - loss: 0.0199 - val_loss: 0.0520\n",
      "Epoch 98/100\n",
      "8/8 [==============================] - 0s 5ms/step - loss: 0.0155 - val_loss: 0.0501\n",
      "Epoch 99/100\n",
      "8/8 [==============================] - 0s 5ms/step - loss: 0.0135 - val_loss: 0.0533\n",
      "Epoch 100/100\n",
      "8/8 [==============================] - 0s 6ms/step - loss: 0.0175 - val_loss: 0.0510\n"
     ]
    }
   ],
   "source": [
    "history = dnn_model.fit(\n",
    "   X_train,y_train,\n",
    "    validation_split=0.2, epochs=100)"
   ]
  },
  {
   "cell_type": "code",
   "execution_count": 136,
   "metadata": {
    "scrolled": true
   },
   "outputs": [
    {
     "data": {
      "text/plain": [
       "{'linear_model': 0.07541419565677643, 'dnn_model': 0.05245734378695488}"
      ]
     },
     "execution_count": 136,
     "metadata": {},
     "output_type": "execute_result"
    }
   ],
   "source": [
    "test_results['dnn_model'] = dnn_model.evaluate(\n",
    "   X_test, y_test, verbose=0)\n",
    "test_results"
   ]
  },
  {
   "cell_type": "code",
   "execution_count": 138,
   "metadata": {
    "scrolled": true
   },
   "outputs": [
    {
     "name": "stdout",
     "output_type": "stream",
     "text": [
      "Train Score: 0.07479749944031513\n",
      "Test Score: 0.13373359315499386\n"
     ]
    },
    {
     "data": {
      "image/png": "[encoded data removed]",
      "text/plain": [
       "<Figure size 432x288 with 1 Axes>"
      ]
     },
     "metadata": {
      "needs_background": "light"
     },
     "output_type": "display_data"
    }
   ],
   "source": [
    "predict_results(dnn_model,history)"
   ]
  },
  {
   "cell_type": "code",
   "execution_count": 139,
   "metadata": {
    "scrolled": true
   },
   "outputs": [
    {
     "name": "stdout",
     "output_type": "stream",
     "text": [
      "INFO:tensorflow:Assets written to: dnn_model\\assets\n"
     ]
    }
   ],
   "source": [
    "# dnn_model.save('dnn_model')"
   ]
  },
  {
   "cell_type": "code",
   "execution_count": 140,
   "metadata": {
    "scrolled": true
   },
   "outputs": [
    {
     "name": "stdout",
     "output_type": "stream",
     "text": [
      "INFO:tensorflow:Assets written to: model\\assets\n"
     ]
    }
   ],
   "source": [
    "# model.save('model')"
   ]
  },
  {
   "cell_type": "code",
   "execution_count": 141,
   "metadata": {
    "scrolled": true
   },
   "outputs": [
    {
     "name": "stdout",
     "output_type": "stream",
     "text": [
      "INFO:tensorflow:Assets written to: model2\\assets\n"
     ]
    }
   ],
   "source": [
    "# model2.save('model2')"
   ]
  },
  {
   "cell_type": "code",
   "execution_count": null,
   "metadata": {},
   "outputs": [],
   "source": []
  }
 ],
 "metadata": {
  "kernelspec": {
   "display_name": "Python 3",
   "language": "python",
   "name": "python3"
  },
  "language_info": {
   "codemirror_mode": {
    "name": "ipython",
    "version": 3
   },
   "file_extension": ".py",
   "mimetype": "text/x-python",
   "name": "python",
   "nbconvert_exporter": "python",
   "pygments_lexer": "ipython3",
   "version": "3.7.3"
  }
 },
 "nbformat": 4,
 "nbformat_minor": 2
}
